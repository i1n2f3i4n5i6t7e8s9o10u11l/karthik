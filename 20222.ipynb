{
  "nbformat": 4,
  "nbformat_minor": 0,
  "metadata": {
    "colab": {
      "provenance": [],
      "authorship_tag": "ABX9TyOtqtpVdFMkaSdf8uq855Tl",
      "include_colab_link": true
    },
    "kernelspec": {
      "name": "python3",
      "display_name": "Python 3"
    },
    "language_info": {
      "name": "python"
    }
  },
  "cells": [
    {
      "cell_type": "markdown",
      "metadata": {
        "id": "view-in-github",
        "colab_type": "text"
      },
      "source": [
        "<a href=\"https://colab.research.google.com/github/i1n2f3i4n5i6t7e8s9o10u11l/karthik/blob/main/20222.ipynb\" target=\"_parent\"><img src=\"https://colab.research.google.com/assets/colab-badge.svg\" alt=\"Open In Colab\"/></a>"
      ]
    },
    {
      "cell_type": "markdown",
      "source": [
        "\n",
        "swapping two numbers in python"
      ],
      "metadata": {
        "id": "jrwz8eV_D6aV"
      }
    },
    {
      "cell_type": "code",
      "source": [
        "# Second method of swapping\n",
        "a = 3\n",
        "b = 5\n",
        "a,b = b,a\n",
        "print(a)\n",
        "print(b)"
      ],
      "metadata": {
        "colab": {
          "base_uri": "https://localhost:8080/"
        },
        "id": "AAJyZRUHD3Ek",
        "outputId": "698894ac-b052-4d93-ad0c-0b3dc3c69497"
      },
      "execution_count": null,
      "outputs": [
        {
          "output_type": "stream",
          "name": "stdout",
          "text": [
            "5\n",
            "3\n"
          ]
        }
      ]
    },
    {
      "cell_type": "code",
      "source": [
        "a = 3\n",
        "b = 5\n",
        "a = a+b #8\n",
        "b = a-b #3\n",
        "a = a-b #5\n",
        "print(a)\n",
        "print(b)\n"
      ],
      "metadata": {
        "colab": {
          "base_uri": "https://localhost:8080/"
        },
        "id": "OuUKn_5kD3Cv",
        "outputId": "e2aab3e9-4121-44a8-adb7-bcf47b168ba5"
      },
      "execution_count": null,
      "outputs": [
        {
          "output_type": "stream",
          "name": "stdout",
          "text": [
            "5\n",
            "3\n"
          ]
        }
      ]
    },
    {
      "cell_type": "markdown",
      "source": [
        "A lambda function can take any number of arguments, but can only have one expression.\n",
        "\n"
      ],
      "metadata": {
        "id": "2AsurCOIIZz1"
      }
    },
    {
      "cell_type": "code",
      "source": [
        "x = lambda a, b : a * b\n",
        "print(x(5, 6))"
      ],
      "metadata": {
        "colab": {
          "base_uri": "https://localhost:8080/"
        },
        "id": "bocSrpSSD2-1",
        "outputId": "98cc6181-93bd-4862-fd5f-eaa8c361c554"
      },
      "execution_count": null,
      "outputs": [
        {
          "output_type": "stream",
          "name": "stdout",
          "text": [
            "30\n"
          ]
        }
      ]
    },
    {
      "cell_type": "markdown",
      "source": [
        "\n",
        "Global variables are those which are not defined inside any function and have a global scope\n"
      ],
      "metadata": {
        "id": "Gn6u761XJwFp"
      }
    },
    {
      "cell_type": "code",
      "source": [
        "def f():\n",
        "    s += 'GFG'\n",
        "    print(\"Inside Function\", s)\n",
        "  \n",
        "  \n",
        "# Global scope\n",
        "s = \"I love Geeksforgeeks\"\n",
        "f()"
      ],
      "metadata": {
        "id": "ktgiSJm8D23n"
      },
      "execution_count": null,
      "outputs": []
    },
    {
      "cell_type": "code",
      "source": [
        "local variables are those which are defined inside a function "
      ],
      "metadata": {
        "id": "4kPGrs0HD20b"
      },
      "execution_count": null,
      "outputs": []
    },
    {
      "cell_type": "code",
      "source": [
        "def f():\n",
        "  \n",
        "    # local variable\n",
        "    s = \"I love Geeksforgeeks\"\n",
        "    print(s)\n",
        "  \n",
        "  \n",
        "# Driver code\n",
        "f()"
      ],
      "metadata": {
        "id": "lz6OzIhfD2xF"
      },
      "execution_count": null,
      "outputs": []
    },
    {
      "cell_type": "markdown",
      "source": [
        "print 1 to 5 numbers in python"
      ],
      "metadata": {
        "id": "JHEQNcR4VPWV"
      }
    },
    {
      "cell_type": "code",
      "source": [
        "num = 1\n",
        "while num < 6:\n",
        "  print(\"num=\", num)\n",
        "  num = num + 1\n",
        "else:\n",
        "   print(\"loop is ended\")\n"
      ],
      "metadata": {
        "colab": {
          "base_uri": "https://localhost:8080/"
        },
        "id": "98E9ol1xVOb9",
        "outputId": "7a00b0eb-f8ce-4a34-fb81-b3206d8758c4"
      },
      "execution_count": null,
      "outputs": [
        {
          "output_type": "stream",
          "name": "stdout",
          "text": [
            "num= 1\n",
            "num= 2\n",
            "num= 3\n",
            "num= 4\n",
            "num= 5\n",
            "loop is ended\n"
          ]
        }
      ]
    },
    {
      "cell_type": "code",
      "source": [
        "dist_1 = {'karthik':'nutan','are':'lovers'}\n"
      ],
      "metadata": {
        "id": "lXFbqDVxVOXF"
      },
      "execution_count": null,
      "outputs": []
    },
    {
      "cell_type": "code",
      "source": [
        "print(dist_1)"
      ],
      "metadata": {
        "colab": {
          "base_uri": "https://localhost:8080/"
        },
        "id": "FXTwheOKVOTx",
        "outputId": "b768f0e2-94e6-4d76-fe89-ddba80e6af8f"
      },
      "execution_count": null,
      "outputs": [
        {
          "output_type": "stream",
          "name": "stdout",
          "text": [
            "{'karthik': 'nutan', 'are': 'lovers'}\n"
          ]
        }
      ]
    },
    {
      "cell_type": "code",
      "source": [],
      "metadata": {
        "id": "CYODQAZUVOQB"
      },
      "execution_count": null,
      "outputs": []
    },
    {
      "cell_type": "code",
      "source": [],
      "metadata": {
        "id": "A-1rcJajVOMy"
      },
      "execution_count": null,
      "outputs": []
    },
    {
      "cell_type": "code",
      "source": [],
      "metadata": {
        "id": "dzhUyLGxVN-X"
      },
      "execution_count": null,
      "outputs": []
    },
    {
      "cell_type": "markdown",
      "source": [
        "python int"
      ],
      "metadata": {
        "id": "WudoR1THD9pF"
      }
    },
    {
      "cell_type": "code",
      "source": [
        "# The number 2000 is an integer, we can confirm this by checking the type\n",
        "type(2000)"
      ],
      "metadata": {
        "id": "80jBHFqMbsQF",
        "colab": {
          "base_uri": "https://localhost:8080/"
        },
        "outputId": "1cf28506-c17c-49a9-a27f-f35478f713cf"
      },
      "execution_count": null,
      "outputs": [
        {
          "output_type": "execute_result",
          "data": {
            "text/plain": [
              "int"
            ]
          },
          "metadata": {},
          "execution_count": 10
        }
      ]
    },
    {
      "cell_type": "code",
      "source": [
        "# The number -2000 is an integer, we can confirm this by checking the type\n",
        "type(-2000)\n"
      ],
      "metadata": {
        "colab": {
          "base_uri": "https://localhost:8080/"
        },
        "id": "ot_MhANrcRT0",
        "outputId": "a809afe6-c206-40ec-deef-c2f2ad79d39b"
      },
      "execution_count": null,
      "outputs": [
        {
          "output_type": "execute_result",
          "data": {
            "text/plain": [
              "int"
            ]
          },
          "metadata": {},
          "execution_count": 11
        }
      ]
    },
    {
      "cell_type": "code",
      "source": [
        "# A decimal number is of the type 'float' which is short for 'floating point number'\n",
        "type(2.3)"
      ],
      "metadata": {
        "colab": {
          "base_uri": "https://localhost:8080/"
        },
        "id": "mJ6YYKl4cXVh",
        "outputId": "b8a3b9e3-1f09-4465-9ece-6c94cc81ffe7"
      },
      "execution_count": null,
      "outputs": [
        {
          "output_type": "execute_result",
          "data": {
            "text/plain": [
              "float"
            ]
          },
          "metadata": {},
          "execution_count": 12
        }
      ]
    },
    {
      "cell_type": "markdown",
      "source": [
        "Basic Arithmetic Operations and functions"
      ],
      "metadata": {
        "id": "gx5XuRF-ceA9"
      }
    },
    {
      "cell_type": "code",
      "source": [
        "2+3"
      ],
      "metadata": {
        "colab": {
          "base_uri": "https://localhost:8080/"
        },
        "id": "_z8HwVXWccjw",
        "outputId": "736f9c37-692c-4b9e-ea7f-b22b2febad7b"
      },
      "execution_count": null,
      "outputs": [
        {
          "output_type": "execute_result",
          "data": {
            "text/plain": [
              "5"
            ]
          },
          "metadata": {},
          "execution_count": 13
        }
      ]
    },
    {
      "cell_type": "code",
      "source": [
        "2-3"
      ],
      "metadata": {
        "colab": {
          "base_uri": "https://localhost:8080/"
        },
        "id": "XhJ-oErRck7e",
        "outputId": "453f180e-b67b-468d-db5c-72f6a49c3634"
      },
      "execution_count": null,
      "outputs": [
        {
          "output_type": "execute_result",
          "data": {
            "text/plain": [
              "-1"
            ]
          },
          "metadata": {},
          "execution_count": 14
        }
      ]
    },
    {
      "cell_type": "code",
      "source": [
        "2/3"
      ],
      "metadata": {
        "colab": {
          "base_uri": "https://localhost:8080/"
        },
        "id": "FsxZFNdjcojG",
        "outputId": "3dc623e4-a3ff-4883-d29b-9b9331d7f4fb"
      },
      "execution_count": null,
      "outputs": [
        {
          "output_type": "execute_result",
          "data": {
            "text/plain": [
              "0.6666666666666666"
            ]
          },
          "metadata": {},
          "execution_count": 15
        }
      ]
    },
    {
      "cell_type": "code",
      "source": [
        "2*3"
      ],
      "metadata": {
        "colab": {
          "base_uri": "https://localhost:8080/"
        },
        "id": "Vn1WP5-lcqth",
        "outputId": "6a3c1066-c9e8-48cb-fdb5-f61df3afdd66"
      },
      "execution_count": null,
      "outputs": [
        {
          "output_type": "execute_result",
          "data": {
            "text/plain": [
              "6"
            ]
          },
          "metadata": {},
          "execution_count": 16
        }
      ]
    },
    {
      "cell_type": "code",
      "source": [
        "x = 1\n",
        "y = 3\n",
        "z = 10\n",
        "x+y+z"
      ],
      "metadata": {
        "colab": {
          "base_uri": "https://localhost:8080/"
        },
        "id": "ijrn2URzctT9",
        "outputId": "af058792-14fe-4dec-cf11-980c5fae72c3"
      },
      "execution_count": null,
      "outputs": [
        {
          "output_type": "execute_result",
          "data": {
            "text/plain": [
              "14"
            ]
          },
          "metadata": {},
          "execution_count": 20
        }
      ]
    },
    {
      "cell_type": "code",
      "source": [
        "x+y+z"
      ],
      "metadata": {
        "colab": {
          "base_uri": "https://localhost:8080/"
        },
        "id": "nDSQB2Nsc3IO",
        "outputId": "c8d66449-ef5d-40e6-9f32-798810580480"
      },
      "execution_count": null,
      "outputs": [
        {
          "output_type": "execute_result",
          "data": {
            "text/plain": [
              "14"
            ]
          },
          "metadata": {},
          "execution_count": 22
        }
      ]
    },
    {
      "cell_type": "code",
      "source": [
        "x-y"
      ],
      "metadata": {
        "colab": {
          "base_uri": "https://localhost:8080/"
        },
        "id": "Mljs-2obdA1g",
        "outputId": "45e79a82-b944-490a-9e5b-eec83d8d19fb"
      },
      "execution_count": null,
      "outputs": [
        {
          "output_type": "execute_result",
          "data": {
            "text/plain": [
              "-2"
            ]
          },
          "metadata": {},
          "execution_count": 23
        }
      ]
    },
    {
      "cell_type": "code",
      "source": [
        "2**(3+5)*3/2+2-1"
      ],
      "metadata": {
        "colab": {
          "base_uri": "https://localhost:8080/"
        },
        "id": "2qm0RB-qdE7O",
        "outputId": "99244d5d-9820-4372-9616-d2798c5d4a59"
      },
      "execution_count": null,
      "outputs": [
        {
          "output_type": "execute_result",
          "data": {
            "text/plain": [
              "385.0"
            ]
          },
          "metadata": {},
          "execution_count": 24
        }
      ]
    },
    {
      "cell_type": "markdown",
      "source": [
        "Strings  ()\n",
        "\n",
        "\n",
        "\n",
        "---\n",
        "\n",
        "\n",
        "\n",
        "---\n",
        "\n",
        "\n",
        "\n",
        "---\n",
        "\n",
        "\n",
        "Strings are sequences of characters\n",
        "Strings should be enclosed in:\n",
        "•\tSingle quotes: 'This is a string'\n",
        "•\tDouble quotes: \"This is a string\"\n",
        "•\tTriple quotes: '''This is a string''' and \"\"\"This is also a string\"\"\"\n"
      ],
      "metadata": {
        "id": "uoU3NC9TdMzo"
      }
    },
    {
      "cell_type": "markdown",
      "source": [
        "\n",
        "\n",
        "---\n",
        "\n"
      ],
      "metadata": {
        "id": "sfnTZxEhd7E8"
      }
    },
    {
      "cell_type": "code",
      "source": [
        "'This is a string'"
      ],
      "metadata": {
        "colab": {
          "base_uri": "https://localhost:8080/",
          "height": 36
        },
        "id": "vd4rpZ2KdLum",
        "outputId": "1a5978da-af54-4961-dedd-e045b8fd5410"
      },
      "execution_count": null,
      "outputs": [
        {
          "output_type": "execute_result",
          "data": {
            "text/plain": [
              "'This is a string'"
            ],
            "application/vnd.google.colaboratory.intrinsic+json": {
              "type": "string"
            }
          },
          "metadata": {},
          "execution_count": 25
        }
      ]
    },
    {
      "cell_type": "code",
      "source": [
        "\"This is a string\""
      ],
      "metadata": {
        "colab": {
          "base_uri": "https://localhost:8080/",
          "height": 36
        },
        "id": "9c1ETDo3da_r",
        "outputId": "b73084d7-72e6-458f-96d4-74239e08607c"
      },
      "execution_count": null,
      "outputs": [
        {
          "output_type": "execute_result",
          "data": {
            "text/plain": [
              "'This is a string'"
            ],
            "application/vnd.google.colaboratory.intrinsic+json": {
              "type": "string"
            }
          },
          "metadata": {},
          "execution_count": 26
        }
      ]
    },
    {
      "cell_type": "code",
      "source": [
        "\"\"\"This is a string\"\"\""
      ],
      "metadata": {
        "colab": {
          "base_uri": "https://localhost:8080/",
          "height": 36
        },
        "id": "T-EZwbjDde6Z",
        "outputId": "e391bca3-cde4-477b-9c60-be12f62102a6"
      },
      "execution_count": null,
      "outputs": [
        {
          "output_type": "execute_result",
          "data": {
            "text/plain": [
              "'This is a string'"
            ],
            "application/vnd.google.colaboratory.intrinsic+json": {
              "type": "string"
            }
          },
          "metadata": {},
          "execution_count": 27
        }
      ]
    },
    {
      "cell_type": "code",
      "source": [
        "# A number enclosed in quotes is also a string\n",
        "type('2')"
      ],
      "metadata": {
        "colab": {
          "base_uri": "https://localhost:8080/"
        },
        "id": "KJPBMeADdkGU",
        "outputId": "a3007398-4209-4160-bfdc-4afa1b4c9f44"
      },
      "execution_count": null,
      "outputs": [
        {
          "output_type": "execute_result",
          "data": {
            "text/plain": [
              "str"
            ]
          },
          "metadata": {},
          "execution_count": 28
        }
      ]
    },
    {
      "cell_type": "code",
      "source": [
        "# A number enclosed in quotes is also a string\n",
        "type('-2')"
      ],
      "metadata": {
        "colab": {
          "base_uri": "https://localhost:8080/"
        },
        "id": "ZQK2lG5Vdrxw",
        "outputId": "49d175e2-e059-4301-bae1-e0130d12f9c6"
      },
      "execution_count": null,
      "outputs": [
        {
          "output_type": "execute_result",
          "data": {
            "text/plain": [
              "str"
            ]
          },
          "metadata": {},
          "execution_count": 29
        }
      ]
    },
    {
      "cell_type": "code",
      "source": [
        "# A number enclosed in quotes is also a string\n",
        "type(\"2\")"
      ],
      "metadata": {
        "colab": {
          "base_uri": "https://localhost:8080/"
        },
        "id": "c_L6l0JZdt_V",
        "outputId": "d0a8167f-ed05-4772-e36b-66197aca4009"
      },
      "execution_count": null,
      "outputs": [
        {
          "output_type": "execute_result",
          "data": {
            "text/plain": [
              "str"
            ]
          },
          "metadata": {},
          "execution_count": 30
        }
      ]
    },
    {
      "cell_type": "code",
      "source": [
        "# A number enclosed in quotes is also a string\n",
        "type(\"\"\"2\"\"\")"
      ],
      "metadata": {
        "colab": {
          "base_uri": "https://localhost:8080/"
        },
        "id": "ybwSsM9vdx_U",
        "outputId": "18004295-5890-4684-f669-8181657faf4e"
      },
      "execution_count": null,
      "outputs": [
        {
          "output_type": "execute_result",
          "data": {
            "text/plain": [
              "str"
            ]
          },
          "metadata": {},
          "execution_count": 31
        }
      ]
    },
    {
      "cell_type": "code",
      "source": [
        "type('The student said \"it is fun to learn Python\"')"
      ],
      "metadata": {
        "colab": {
          "base_uri": "https://localhost:8080/"
        },
        "id": "6xYfzcRBd1Y7",
        "outputId": "56a5f714-59d8-4948-9a2d-566f6a0583c2"
      },
      "execution_count": null,
      "outputs": [
        {
          "output_type": "execute_result",
          "data": {
            "text/plain": [
              "str"
            ]
          },
          "metadata": {},
          "execution_count": 33
        }
      ]
    },
    {
      "cell_type": "code",
      "source": [
        "type('The student said \"it\\'s fun to learn Python\"')"
      ],
      "metadata": {
        "colab": {
          "base_uri": "https://localhost:8080/"
        },
        "id": "8S_intjDeG_5",
        "outputId": "b4e5b02a-1afd-4e40-cd4e-ae4d4731e51f"
      },
      "execution_count": null,
      "outputs": [
        {
          "output_type": "execute_result",
          "data": {
            "text/plain": [
              "str"
            ]
          },
          "metadata": {},
          "execution_count": 34
        }
      ]
    },
    {
      "cell_type": "markdown",
      "source": [
        "\\n = next line"
      ],
      "metadata": {
        "id": "tQ_dzRutew9J"
      }
    },
    {
      "cell_type": "code",
      "source": [
        "# The escape sequence '\\n' prints the remaining text in a new line\n",
        "print('hello I would like this \\nstring in two lines')"
      ],
      "metadata": {
        "colab": {
          "base_uri": "https://localhost:8080/"
        },
        "id": "4lzunfz1egnD",
        "outputId": "a472618f-675c-49c6-e38c-0ef0b024b366"
      },
      "execution_count": null,
      "outputs": [
        {
          "output_type": "stream",
          "name": "stdout",
          "text": [
            "hello I would like this \n",
            "string in two lines\n"
          ]
        }
      ]
    },
    {
      "cell_type": "markdown",
      "source": [
        "\\t = same line"
      ],
      "metadata": {
        "id": "NkM1wHxMe0Rf"
      }
    },
    {
      "cell_type": "code",
      "source": [
        "# The escape sequence '\\t' prints the remaining text in a new line\n",
        "print('hello I would like this \\tstring in two lines')"
      ],
      "metadata": {
        "colab": {
          "base_uri": "https://localhost:8080/"
        },
        "id": "svTZygfjev60",
        "outputId": "76c09eb5-8ad2-43ce-d0e7-eadec5ecf0b8"
      },
      "execution_count": null,
      "outputs": [
        {
          "output_type": "stream",
          "name": "stdout",
          "text": [
            "hello I would like this \tstring in two lines\n"
          ]
        }
      ]
    },
    {
      "cell_type": "markdown",
      "source": [
        "*String Concatenation *"
      ],
      "metadata": {
        "id": "jKz-PDvNfFX2"
      }
    },
    {
      "cell_type": "code",
      "source": [
        "x = 'My name'\n",
        "y = 'joe'\n",
        "x+y"
      ],
      "metadata": {
        "colab": {
          "base_uri": "https://localhost:8080/",
          "height": 36
        },
        "id": "sqkOA7IGfCR7",
        "outputId": "57cbf799-8889-4356-ded8-880aefa4b64f"
      },
      "execution_count": null,
      "outputs": [
        {
          "output_type": "execute_result",
          "data": {
            "text/plain": [
              "'My namejoe'"
            ],
            "application/vnd.google.colaboratory.intrinsic+json": {
              "type": "string"
            }
          },
          "metadata": {},
          "execution_count": 40
        }
      ]
    },
    {
      "cell_type": "markdown",
      "source": [
        "In double *quotes*"
      ],
      "metadata": {
        "id": "tn4bbDHHfnm8"
      }
    },
    {
      "cell_type": "code",
      "source": [
        "x = \"My name\"\n",
        "y = \"joe\"\n",
        "x+y"
      ],
      "metadata": {
        "colab": {
          "base_uri": "https://localhost:8080/",
          "height": 36
        },
        "id": "aWK-E6WxfT3-",
        "outputId": "386e7f58-bf8d-4776-d0aa-d68469e67cab"
      },
      "execution_count": null,
      "outputs": [
        {
          "output_type": "execute_result",
          "data": {
            "text/plain": [
              "'My namejoe'"
            ],
            "application/vnd.google.colaboratory.intrinsic+json": {
              "type": "string"
            }
          },
          "metadata": {},
          "execution_count": 42
        }
      ]
    },
    {
      "cell_type": "markdown",
      "source": [
        "Lists [ ]\n",
        "\n"
      ],
      "metadata": {
        "id": "gixlmxhVfuMV"
      }
    },
    {
      "cell_type": "markdown",
      "source": [
        "Lists The list is a sequence data type which is used to store the collection of data in squared brackets, lists are Not immutable"
      ],
      "metadata": {
        "id": "l8oUfzQWHzg6"
      }
    },
    {
      "cell_type": "code",
      "source": [
        "x = 'Hello'\n",
        "x[1]"
      ],
      "metadata": {
        "colab": {
          "base_uri": "https://localhost:8080/",
          "height": 36
        },
        "id": "jwoujMYrfkHE",
        "outputId": "be49e98c-2f26-4782-e411-32474245e94f"
      },
      "execution_count": null,
      "outputs": [
        {
          "output_type": "execute_result",
          "data": {
            "text/plain": [
              "'e'"
            ],
            "application/vnd.google.colaboratory.intrinsic+json": {
              "type": "string"
            }
          },
          "metadata": {},
          "execution_count": 47
        }
      ]
    },
    {
      "cell_type": "code",
      "source": [
        "list_1 = [2,3,4,5,6,7]\n",
        "list_2 = ['karthik','nutan','parents','bro']"
      ],
      "metadata": {
        "id": "vQRtBbG4hAXq"
      },
      "execution_count": null,
      "outputs": []
    },
    {
      "cell_type": "code",
      "source": [
        "list_1"
      ],
      "metadata": {
        "colab": {
          "base_uri": "https://localhost:8080/"
        },
        "id": "EjMr2knThJfm",
        "outputId": "acb59784-a645-4732-fc18-6a5e76c35e91"
      },
      "execution_count": null,
      "outputs": [
        {
          "output_type": "execute_result",
          "data": {
            "text/plain": [
              "[2, 3, 4, 5, 6, 7]"
            ]
          },
          "metadata": {},
          "execution_count": 49
        }
      ]
    },
    {
      "cell_type": "code",
      "source": [
        "list_2"
      ],
      "metadata": {
        "colab": {
          "base_uri": "https://localhost:8080/"
        },
        "id": "fqoUXK_IhsVC",
        "outputId": "c17b5558-d6dc-408f-e250-d27de3225fb6"
      },
      "execution_count": null,
      "outputs": [
        {
          "output_type": "execute_result",
          "data": {
            "text/plain": [
              "['karthik', 'nutan', 'parents', 'bro']"
            ]
          },
          "metadata": {},
          "execution_count": 50
        }
      ]
    },
    {
      "cell_type": "markdown",
      "source": [
        "Dictionaries are used to store data values in key:value pairs.\n",
        "\n",
        "1.  Dictionaries are ordered , mutable and do not allow duplicate objects\n",
        "\n",
        "\n",
        "\n",
        "\n",
        "\n",
        "\n"
      ],
      "metadata": {
        "id": "Dh1Si8tih6P3"
      }
    },
    {
      "cell_type": "markdown",
      "source": [
        "dict_1 = {'key':value1, 'key2':value2}"
      ],
      "metadata": {
        "id": "LYzKPaKoicu7"
      }
    },
    {
      "cell_type": "code",
      "source": [
        "dict_1 = {'karthik':'thop','nutan':'thop'}"
      ],
      "metadata": {
        "id": "cU3F_1XWhtnL"
      },
      "execution_count": null,
      "outputs": []
    },
    {
      "cell_type": "code",
      "source": [
        "dict_1"
      ],
      "metadata": {
        "colab": {
          "base_uri": "https://localhost:8080/"
        },
        "id": "kxFGCFr5i2cY",
        "outputId": "aca9a7c9-e915-4fab-f6eb-64a717204b26"
      },
      "execution_count": null,
      "outputs": [
        {
          "output_type": "execute_result",
          "data": {
            "text/plain": [
              "{'karthik': 'thop', 'nutan': 'thop'}"
            ]
          },
          "metadata": {},
          "execution_count": 52
        }
      ]
    },
    {
      "cell_type": "markdown",
      "source": [
        "Tuples  ( )  The tuples is a sequence data type which is used to store the collection of data in circle brackets, tuples are immutable\n"
      ],
      "metadata": {
        "id": "zqrYXrfQi7Xt"
      }
    },
    {
      "cell_type": "code",
      "source": [
        "x = (1,2,3)\n",
        "x\n",
        "type(x)"
      ],
      "metadata": {
        "colab": {
          "base_uri": "https://localhost:8080/"
        },
        "id": "RB3z_Ip9i4bb",
        "outputId": "bbd2a12e-af89-4faf-f22f-182a9e360894"
      },
      "execution_count": null,
      "outputs": [
        {
          "output_type": "execute_result",
          "data": {
            "text/plain": [
              "tuple"
            ]
          },
          "metadata": {},
          "execution_count": 54
        }
      ]
    },
    {
      "cell_type": "code",
      "source": [
        "x=(1,'John',[1,2,3],{'key1','value1'})\n",
        "x\n",
        "type(x)"
      ],
      "metadata": {
        "colab": {
          "base_uri": "https://localhost:8080/"
        },
        "id": "e6bOCosvmQWd",
        "outputId": "74302122-8649-42b7-88da-e2cb88c7207b"
      },
      "execution_count": null,
      "outputs": [
        {
          "output_type": "execute_result",
          "data": {
            "text/plain": [
              "tuple"
            ]
          },
          "metadata": {},
          "execution_count": 55
        }
      ]
    },
    {
      "cell_type": "markdown",
      "source": [
        "**Sets**  { } Sets is an unordered collection of items and elements are immutable"
      ],
      "metadata": {
        "id": "HtW5u355mbQx"
      }
    },
    {
      "cell_type": "code",
      "source": [
        "x = {1,2,3}\n",
        "x\n",
        "type(x)"
      ],
      "metadata": {
        "colab": {
          "base_uri": "https://localhost:8080/"
        },
        "id": "_ZeOarYfmZpS",
        "outputId": "b950e67c-9cc6-427d-d038-798a000c39cc"
      },
      "execution_count": null,
      "outputs": [
        {
          "output_type": "execute_result",
          "data": {
            "text/plain": [
              "set"
            ]
          },
          "metadata": {},
          "execution_count": 56
        }
      ]
    },
    {
      "cell_type": "markdown",
      "source": [
        "Booleans\n",
        "A boolean is a data type with two possible values:\n",
        "•\tTrue\n",
        "•\tFalse\n"
      ],
      "metadata": {
        "id": "MkaMFVwNoDz7"
      }
    },
    {
      "cell_type": "code",
      "source": [
        "type(True)"
      ],
      "metadata": {
        "colab": {
          "base_uri": "https://localhost:8080/"
        },
        "id": "9EDP_Uvgmtus",
        "outputId": "4dabd63b-6940-4ee5-8c8d-6930ae42b05a"
      },
      "execution_count": null,
      "outputs": [
        {
          "output_type": "execute_result",
          "data": {
            "text/plain": [
              "bool"
            ]
          },
          "metadata": {},
          "execution_count": 57
        }
      ]
    },
    {
      "cell_type": "code",
      "source": [
        "type(False)"
      ],
      "metadata": {
        "colab": {
          "base_uri": "https://localhost:8080/"
        },
        "id": "NBoJhDrWoJ8M",
        "outputId": "cbfbbc01-fdba-4be5-decb-8ff452ce7675"
      },
      "execution_count": null,
      "outputs": [
        {
          "output_type": "execute_result",
          "data": {
            "text/plain": [
              "bool"
            ]
          },
          "metadata": {},
          "execution_count": 58
        }
      ]
    },
    {
      "cell_type": "code",
      "source": [
        "5>7"
      ],
      "metadata": {
        "colab": {
          "base_uri": "https://localhost:8080/"
        },
        "id": "qGWzboxIoMWD",
        "outputId": "bc6512bc-d80b-4637-bd08-026f6769794b"
      },
      "execution_count": null,
      "outputs": [
        {
          "output_type": "execute_result",
          "data": {
            "text/plain": [
              "False"
            ]
          },
          "metadata": {},
          "execution_count": 59
        }
      ]
    },
    {
      "cell_type": "code",
      "source": [
        "5<7"
      ],
      "metadata": {
        "colab": {
          "base_uri": "https://localhost:8080/"
        },
        "id": "hZ2XMMfaomR1",
        "outputId": "1c188a4f-5aa0-4af0-ae42-d85d723ed8db"
      },
      "execution_count": null,
      "outputs": [
        {
          "output_type": "execute_result",
          "data": {
            "text/plain": [
              "True"
            ]
          },
          "metadata": {},
          "execution_count": 61
        }
      ]
    },
    {
      "cell_type": "code",
      "source": [
        "type(5>7)"
      ],
      "metadata": {
        "colab": {
          "base_uri": "https://localhost:8080/"
        },
        "id": "t4ALo1WTosaO",
        "outputId": "8d234139-650e-44fb-c722-7c4e1c8e709a"
      },
      "execution_count": null,
      "outputs": [
        {
          "output_type": "execute_result",
          "data": {
            "text/plain": [
              "bool"
            ]
          },
          "metadata": {},
          "execution_count": 63
        }
      ]
    },
    {
      "cell_type": "code",
      "source": [
        "type(5<7)"
      ],
      "metadata": {
        "colab": {
          "base_uri": "https://localhost:8080/"
        },
        "id": "qyIU4sYxo3SO",
        "outputId": "5350d74c-4027-4850-c821-743e799b2618"
      },
      "execution_count": null,
      "outputs": [
        {
          "output_type": "execute_result",
          "data": {
            "text/plain": [
              "bool"
            ]
          },
          "metadata": {},
          "execution_count": 64
        }
      ]
    },
    {
      "cell_type": "markdown",
      "source": [
        "Arithmetic Operators\n",
        "+ Addition\n",
        "- Subtraction\n",
        "* Multiplication\n",
        "/ Division\n",
        "% Modulus\n",
        "***Exponent\n",
        "\n"
      ],
      "metadata": {
        "id": "l529srOZo98E"
      }
    },
    {
      "cell_type": "code",
      "source": [
        "a = 10\n",
        "b = 20\n",
        "a "
      ],
      "metadata": {
        "colab": {
          "base_uri": "https://localhost:8080/"
        },
        "id": "a-MYVgoSo8Pz",
        "outputId": "b49fcd3c-ae30-4571-e997-05cabb827dad"
      },
      "execution_count": null,
      "outputs": [
        {
          "output_type": "execute_result",
          "data": {
            "text/plain": [
              "10"
            ]
          },
          "metadata": {},
          "execution_count": 65
        }
      ]
    },
    {
      "cell_type": "code",
      "source": [
        "a+b"
      ],
      "metadata": {
        "colab": {
          "base_uri": "https://localhost:8080/"
        },
        "id": "kyDHjN7YpKB0",
        "outputId": "c6890607-5de6-4bf1-a120-5acfd1eabd26"
      },
      "execution_count": null,
      "outputs": [
        {
          "output_type": "execute_result",
          "data": {
            "text/plain": [
              "30"
            ]
          },
          "metadata": {},
          "execution_count": 66
        }
      ]
    },
    {
      "cell_type": "code",
      "source": [
        "a-b"
      ],
      "metadata": {
        "colab": {
          "base_uri": "https://localhost:8080/"
        },
        "id": "3VKgsguSpfje",
        "outputId": "7e108d92-366f-4e63-d293-8e1f08489ded"
      },
      "execution_count": null,
      "outputs": [
        {
          "output_type": "execute_result",
          "data": {
            "text/plain": [
              "-10"
            ]
          },
          "metadata": {},
          "execution_count": 71
        }
      ]
    },
    {
      "cell_type": "code",
      "source": [
        "b-a"
      ],
      "metadata": {
        "colab": {
          "base_uri": "https://localhost:8080/"
        },
        "id": "EZHhiM-dpgIP",
        "outputId": "ed9ee333-6eeb-4e8b-f9c4-2227017052a2"
      },
      "execution_count": null,
      "outputs": [
        {
          "output_type": "execute_result",
          "data": {
            "text/plain": [
              "10"
            ]
          },
          "metadata": {},
          "execution_count": 70
        }
      ]
    },
    {
      "cell_type": "code",
      "source": [
        "10<20"
      ],
      "metadata": {
        "colab": {
          "base_uri": "https://localhost:8080/"
        },
        "id": "2YIxCXn0pg4-",
        "outputId": "72fece70-1436-4db2-e1f1-159483f8a05e"
      },
      "execution_count": null,
      "outputs": [
        {
          "output_type": "execute_result",
          "data": {
            "text/plain": [
              "True"
            ]
          },
          "metadata": {},
          "execution_count": 72
        }
      ]
    },
    {
      "cell_type": "code",
      "source": [
        "20>10"
      ],
      "metadata": {
        "colab": {
          "base_uri": "https://localhost:8080/"
        },
        "id": "lq_MgewgprdA",
        "outputId": "8bed4fbd-1a5f-445a-846e-2be84f69de20"
      },
      "execution_count": null,
      "outputs": [
        {
          "output_type": "execute_result",
          "data": {
            "text/plain": [
              "True"
            ]
          },
          "metadata": {},
          "execution_count": 73
        }
      ]
    },
    {
      "cell_type": "markdown",
      "source": [
        "Logical Operators"
      ],
      "metadata": {
        "id": "34pw_qyvp2gD"
      }
    },
    {
      "cell_type": "code",
      "source": [
        "4>3"
      ],
      "metadata": {
        "colab": {
          "base_uri": "https://localhost:8080/"
        },
        "id": "ew7D-ZLrpsrw",
        "outputId": "f75217e4-b57f-457c-d5ee-a01f3c7bdc3d"
      },
      "execution_count": null,
      "outputs": [
        {
          "output_type": "execute_result",
          "data": {
            "text/plain": [
              "True"
            ]
          },
          "metadata": {},
          "execution_count": 76
        }
      ]
    },
    {
      "cell_type": "code",
      "source": [
        "100>3"
      ],
      "metadata": {
        "colab": {
          "base_uri": "https://localhost:8080/"
        },
        "id": "DqixReO1pyca",
        "outputId": "7e9b1329-18fa-4360-afca-b85ee9b5d50e"
      },
      "execution_count": null,
      "outputs": [
        {
          "output_type": "execute_result",
          "data": {
            "text/plain": [
              "True"
            ]
          },
          "metadata": {},
          "execution_count": 77
        }
      ]
    },
    {
      "cell_type": "code",
      "source": [
        "4>3 and 100>3"
      ],
      "metadata": {
        "colab": {
          "base_uri": "https://localhost:8080/"
        },
        "id": "ksL4GNOMq-gO",
        "outputId": "35fcd836-f957-46da-a518-50648d391be7"
      },
      "execution_count": null,
      "outputs": [
        {
          "output_type": "execute_result",
          "data": {
            "text/plain": [
              "True"
            ]
          },
          "metadata": {},
          "execution_count": 78
        }
      ]
    },
    {
      "cell_type": "code",
      "source": [
        "3>1 and 3==3 and 4<100"
      ],
      "metadata": {
        "colab": {
          "base_uri": "https://localhost:8080/"
        },
        "id": "dJGgtOu3rC8w",
        "outputId": "1540ec22-40c1-47d5-ef84-7564c7582cab"
      },
      "execution_count": null,
      "outputs": [
        {
          "output_type": "execute_result",
          "data": {
            "text/plain": [
              "True"
            ]
          },
          "metadata": {},
          "execution_count": 79
        }
      ]
    },
    {
      "cell_type": "code",
      "source": [
        "4<3"
      ],
      "metadata": {
        "colab": {
          "base_uri": "https://localhost:8080/"
        },
        "id": "5L2e8uherFIL",
        "outputId": "b52a079b-5c38-47a8-aa25-0e644b8487a3"
      },
      "execution_count": null,
      "outputs": [
        {
          "output_type": "execute_result",
          "data": {
            "text/plain": [
              "False"
            ]
          },
          "metadata": {},
          "execution_count": 81
        }
      ]
    },
    {
      "cell_type": "markdown",
      "source": [
        "if elif else"
      ],
      "metadata": {
        "id": "Gzy36dybrSom"
      }
    },
    {
      "cell_type": "code",
      "source": [
        "if 4>3:\n",
        "   print('the condition is true')\n"
      ],
      "metadata": {
        "colab": {
          "base_uri": "https://localhost:8080/"
        },
        "id": "qNJYGopdrQkQ",
        "outputId": "09754c67-076a-4dfc-f3f2-b3f9284bb015"
      },
      "execution_count": null,
      "outputs": [
        {
          "output_type": "stream",
          "name": "stdout",
          "text": [
            "the condition is true\n"
          ]
        }
      ]
    },
    {
      "cell_type": "markdown",
      "source": [
        "if - else statement"
      ],
      "metadata": {
        "id": "kRbOKZJbsbKa"
      }
    },
    {
      "cell_type": "code",
      "source": [
        "if 5<100:\n",
        "  print('the if statement is true')\n",
        "if 5<100:\n",
        "   print('the second if statement is true')\n",
        "if 5<100:\n",
        "   print('the third if statement is true')"
      ],
      "metadata": {
        "colab": {
          "base_uri": "https://localhost:8080/"
        },
        "id": "LPR9csDari6B",
        "outputId": "9afc5524-6906-4dde-cd7a-0c088c292217"
      },
      "execution_count": null,
      "outputs": [
        {
          "output_type": "stream",
          "name": "stdout",
          "text": [
            "the if statement is true\n",
            "the second if statement is true\n",
            "the third if statement is true\n"
          ]
        }
      ]
    },
    {
      "cell_type": "markdown",
      "source": [
        "Lists The list is a sequence data type which is used to store the collection of data in squared brackets, lists are Not immutable"
      ],
      "metadata": {
        "id": "McF2soE17Zr1"
      }
    },
    {
      "cell_type": "code",
      "source": [
        "list_1 = [1,2,3,4]"
      ],
      "metadata": {
        "id": "MGdO5VaW61Ym"
      },
      "execution_count": null,
      "outputs": []
    },
    {
      "cell_type": "code",
      "source": [
        "list_1"
      ],
      "metadata": {
        "colab": {
          "base_uri": "https://localhost:8080/"
        },
        "id": "kb0FT5GV7VQe",
        "outputId": "e2d3f868-f096-4334-b9af-eccd0989d419"
      },
      "execution_count": null,
      "outputs": [
        {
          "output_type": "execute_result",
          "data": {
            "text/plain": [
              "[1, 2, 3, 4]"
            ]
          },
          "metadata": {},
          "execution_count": 99
        }
      ]
    },
    {
      "cell_type": "code",
      "source": [
        "for x in list_1:\n",
        "    print('1,2,3,4')"
      ],
      "metadata": {
        "colab": {
          "base_uri": "https://localhost:8080/"
        },
        "id": "hcL8OC3f7eSx",
        "outputId": "f0104e72-99fe-49d4-c91d-43627268edbb"
      },
      "execution_count": null,
      "outputs": [
        {
          "output_type": "stream",
          "name": "stdout",
          "text": [
            "1,2,3,4\n",
            "1,2,3,4\n",
            "1,2,3,4\n",
            "1,2,3,4\n",
            "1,2,3,4\n"
          ]
        }
      ]
    },
    {
      "cell_type": "markdown",
      "source": [
        "Tuples  "
      ],
      "metadata": {
        "id": "8Za4SZu48S7f"
      }
    },
    {
      "cell_type": "code",
      "source": [
        "tuple = (\"karthik\",\"nuthan\",\"akshitha\",\"ashmitha\")\n",
        "print(tuple)"
      ],
      "metadata": {
        "colab": {
          "base_uri": "https://localhost:8080/"
        },
        "id": "qD1jZOm17k2U",
        "outputId": "1c4adca9-b47f-428e-aa6f-1d0948aa413e"
      },
      "execution_count": null,
      "outputs": [
        {
          "output_type": "stream",
          "name": "stdout",
          "text": [
            "('karthik', 'nuthan', 'akshitha', 'ashmitha')\n"
          ]
        }
      ]
    },
    {
      "cell_type": "markdown",
      "source": [
        "while loop"
      ],
      "metadata": {
        "id": "hgS8e_vw-fkn"
      }
    },
    {
      "cell_type": "code",
      "source": [
        "i = 1\n",
        "while i < 6:\n",
        "  print(i)\n",
        "  i += 1"
      ],
      "metadata": {
        "colab": {
          "base_uri": "https://localhost:8080/"
        },
        "id": "7py5tyML9O2U",
        "outputId": "3697f8ec-d93a-4bf3-fa7a-d9a1b695f083"
      },
      "execution_count": null,
      "outputs": [
        {
          "output_type": "stream",
          "name": "stdout",
          "text": [
            "1\n",
            "2\n",
            "3\n",
            "4\n",
            "5\n"
          ]
        }
      ]
    },
    {
      "cell_type": "markdown",
      "source": [
        "Built in functions in python\n"
      ],
      "metadata": {
        "id": "OA6RWRHqAKKR"
      }
    },
    {
      "cell_type": "markdown",
      "source": [
        "print( )"
      ],
      "metadata": {
        "id": "mjDneeovAgp9"
      }
    },
    {
      "cell_type": "code",
      "source": [
        "print('hello')"
      ],
      "metadata": {
        "colab": {
          "base_uri": "https://localhost:8080/"
        },
        "id": "hqouzd9k_Sua",
        "outputId": "8252b028-0eee-4f37-c600-d6d6beffb4ab"
      },
      "execution_count": null,
      "outputs": [
        {
          "output_type": "stream",
          "name": "stdout",
          "text": [
            "hello\n"
          ]
        }
      ]
    },
    {
      "cell_type": "code",
      "source": [
        "print([1,2,3])"
      ],
      "metadata": {
        "colab": {
          "base_uri": "https://localhost:8080/"
        },
        "id": "saH6hLliAlt5",
        "outputId": "dfc1afb2-78f7-48af-add9-b0194dffe5b6"
      },
      "execution_count": null,
      "outputs": [
        {
          "output_type": "stream",
          "name": "stdout",
          "text": [
            "[1, 2, 3]\n"
          ]
        }
      ]
    },
    {
      "cell_type": "code",
      "source": [
        "print({'hgvh','xfhcgvjh','cgjv'})"
      ],
      "metadata": {
        "colab": {
          "base_uri": "https://localhost:8080/"
        },
        "id": "KSnh-lJ5A8bK",
        "outputId": "258d659d-5fe9-4a65-c526-f3647fc451e2"
      },
      "execution_count": null,
      "outputs": [
        {
          "output_type": "stream",
          "name": "stdout",
          "text": [
            "{'xfhcgvjh', 'cgjv', 'hgvh'}\n"
          ]
        }
      ]
    },
    {
      "cell_type": "markdown",
      "source": [
        "type( )"
      ],
      "metadata": {
        "id": "WVtuGZI0BRcH"
      }
    },
    {
      "cell_type": "code",
      "source": [
        "type('hello world')"
      ],
      "metadata": {
        "colab": {
          "base_uri": "https://localhost:8080/"
        },
        "id": "P4sEbWRaBDwL",
        "outputId": "9dee2974-4192-40a2-bd12-9586a48032e6"
      },
      "execution_count": null,
      "outputs": [
        {
          "output_type": "execute_result",
          "data": {
            "text/plain": [
              "str"
            ]
          },
          "metadata": {},
          "execution_count": 111
        }
      ]
    },
    {
      "cell_type": "code",
      "source": [
        "type([1,2,3])"
      ],
      "metadata": {
        "colab": {
          "base_uri": "https://localhost:8080/"
        },
        "id": "lus6BgiQBV__",
        "outputId": "6b47207e-2b5e-4454-de82-ddc061fbee08"
      },
      "execution_count": null,
      "outputs": [
        {
          "output_type": "execute_result",
          "data": {
            "text/plain": [
              "list"
            ]
          },
          "metadata": {},
          "execution_count": 112
        }
      ]
    },
    {
      "cell_type": "code",
      "source": [
        "type({'hgvh','xfhcgvjh','cgjv'})"
      ],
      "metadata": {
        "colab": {
          "base_uri": "https://localhost:8080/"
        },
        "id": "01xRO3O_Bi0U",
        "outputId": "3972d4c7-b067-4d46-f184-471d6259227d"
      },
      "execution_count": null,
      "outputs": [
        {
          "output_type": "execute_result",
          "data": {
            "text/plain": [
              "set"
            ]
          },
          "metadata": {},
          "execution_count": 113
        }
      ]
    },
    {
      "cell_type": "markdown",
      "source": [
        "numpy functions It is a Python library used for working with an array.\n"
      ],
      "metadata": {
        "id": "4xmS6uJ5Botf"
      }
    },
    {
      "cell_type": "markdown",
      "source": [
        "creating 1D array"
      ],
      "metadata": {
        "id": "aQZxz_E4MvpX"
      }
    },
    {
      "cell_type": "code",
      "source": [
        "import numpy as np"
      ],
      "metadata": {
        "id": "9D-E6iLRBm9a"
      },
      "execution_count": null,
      "outputs": []
    },
    {
      "cell_type": "code",
      "source": [
        "n = np.array([1,2,3])\n",
        "n"
      ],
      "metadata": {
        "colab": {
          "base_uri": "https://localhost:8080/"
        },
        "id": "Wt8W_IiDM0Sl",
        "outputId": "29aead1c-6ce8-443c-ec35-633eac693391"
      },
      "execution_count": null,
      "outputs": [
        {
          "output_type": "execute_result",
          "data": {
            "text/plain": [
              "array([1, 2, 3])"
            ]
          },
          "metadata": {},
          "execution_count": 117
        }
      ]
    },
    {
      "cell_type": "code",
      "source": [
        "type(n)"
      ],
      "metadata": {
        "colab": {
          "base_uri": "https://localhost:8080/"
        },
        "id": "FkftkfabM2Gc",
        "outputId": "1b8f8b1d-49a6-426a-93b2-5f462e6c57db"
      },
      "execution_count": null,
      "outputs": [
        {
          "output_type": "execute_result",
          "data": {
            "text/plain": [
              "numpy.ndarray"
            ]
          },
          "metadata": {},
          "execution_count": 118
        }
      ]
    },
    {
      "cell_type": "markdown",
      "source": [
        "2D array"
      ],
      "metadata": {
        "id": "aoXNJEpYNgzi"
      }
    },
    {
      "cell_type": "code",
      "source": [
        "n = np.array([(1,2,3),(4,5,6)])\n",
        "n"
      ],
      "metadata": {
        "colab": {
          "base_uri": "https://localhost:8080/"
        },
        "id": "M3aNsCpXNAvx",
        "outputId": "f587546e-5e2d-4ca8-bc6a-6f5f78f59beb"
      },
      "execution_count": null,
      "outputs": [
        {
          "output_type": "execute_result",
          "data": {
            "text/plain": [
              "array([[1, 2, 3],\n",
              "       [4, 5, 6]])"
            ]
          },
          "metadata": {},
          "execution_count": 126
        }
      ]
    },
    {
      "cell_type": "code",
      "source": [
        "np.shape(n)"
      ],
      "metadata": {
        "colab": {
          "base_uri": "https://localhost:8080/"
        },
        "id": "vEaK0MbmN_Mn",
        "outputId": "8d99d50d-92d9-4ad1-b808-d00a5771083a"
      },
      "execution_count": null,
      "outputs": [
        {
          "output_type": "execute_result",
          "data": {
            "text/plain": [
              "(2, 3)"
            ]
          },
          "metadata": {},
          "execution_count": 127
        }
      ]
    },
    {
      "cell_type": "markdown",
      "source": [
        "3D array"
      ],
      "metadata": {
        "id": "RyHmSLWaNiqv"
      }
    },
    {
      "cell_type": "code",
      "source": [
        "n = np.array([(1,2,3),(4,5,6),(7,8,9)])\n",
        "n"
      ],
      "metadata": {
        "colab": {
          "base_uri": "https://localhost:8080/"
        },
        "id": "h_IpLmPQNOlK",
        "outputId": "fa1dcfaf-d779-43a6-c48b-2e90ad5b8e72"
      },
      "execution_count": null,
      "outputs": [
        {
          "output_type": "execute_result",
          "data": {
            "text/plain": [
              "array([[1, 2, 3],\n",
              "       [4, 5, 6],\n",
              "       [7, 8, 9]])"
            ]
          },
          "metadata": {},
          "execution_count": 123
        }
      ]
    },
    {
      "cell_type": "code",
      "source": [
        "np.shape(n)"
      ],
      "metadata": {
        "colab": {
          "base_uri": "https://localhost:8080/"
        },
        "id": "_7npsjgwNr1U",
        "outputId": "7ec0dff0-c257-45c9-b3ff-b61b8e7c85ea"
      },
      "execution_count": null,
      "outputs": [
        {
          "output_type": "execute_result",
          "data": {
            "text/plain": [
              "(3, 3)"
            ]
          },
          "metadata": {},
          "execution_count": 125
        }
      ]
    },
    {
      "cell_type": "markdown",
      "source": [
        "arange"
      ],
      "metadata": {
        "id": "5iZQrHh4ON-x"
      }
    },
    {
      "cell_type": "code",
      "source": [
        "import numpy as np"
      ],
      "metadata": {
        "id": "oGPRZMNNN6BZ"
      },
      "execution_count": null,
      "outputs": []
    },
    {
      "cell_type": "code",
      "source": [
        "n = np.arange(100)\n",
        "print(n)"
      ],
      "metadata": {
        "colab": {
          "base_uri": "https://localhost:8080/"
        },
        "id": "AFHJlCZEOR-i",
        "outputId": "a9aee331-f049-4604-88aa-74aa808de6d7"
      },
      "execution_count": null,
      "outputs": [
        {
          "output_type": "stream",
          "name": "stdout",
          "text": [
            "[ 0  1  2  3  4  5  6  7  8  9 10 11 12 13 14 15 16 17 18 19 20 21 22 23\n",
            " 24 25 26 27 28 29 30 31 32 33 34 35 36 37 38 39 40 41 42 43 44 45 46 47\n",
            " 48 49 50 51 52 53 54 55 56 57 58 59 60 61 62 63 64 65 66 67 68 69 70 71\n",
            " 72 73 74 75 76 77 78 79 80 81 82 83 84 85 86 87 88 89 90 91 92 93 94 95\n",
            " 96 97 98 99]\n"
          ]
        }
      ]
    },
    {
      "cell_type": "markdown",
      "source": [
        "printing ones"
      ],
      "metadata": {
        "id": "BU_xTGEtPPJ-"
      }
    },
    {
      "cell_type": "code",
      "source": [
        "n = np.ones(6)\n",
        "n"
      ],
      "metadata": {
        "colab": {
          "base_uri": "https://localhost:8080/"
        },
        "id": "cqx9XKKqOzem",
        "outputId": "fe0e907f-5498-4b5f-e648-e3e8863d2f9c"
      },
      "execution_count": null,
      "outputs": [
        {
          "output_type": "execute_result",
          "data": {
            "text/plain": [
              "array([1., 1., 1., 1., 1., 1.])"
            ]
          },
          "metadata": {},
          "execution_count": 142
        }
      ]
    },
    {
      "cell_type": "code",
      "source": [
        "n = np.ones((2,3,4))\n",
        "n"
      ],
      "metadata": {
        "colab": {
          "base_uri": "https://localhost:8080/"
        },
        "id": "q90p-ZUYPHBQ",
        "outputId": "c4b33d46-e19e-48aa-a2c8-8ad52e423a43"
      },
      "execution_count": null,
      "outputs": [
        {
          "output_type": "execute_result",
          "data": {
            "text/plain": [
              "array([[[1., 1., 1., 1.],\n",
              "        [1., 1., 1., 1.],\n",
              "        [1., 1., 1., 1.]],\n",
              "\n",
              "       [[1., 1., 1., 1.],\n",
              "        [1., 1., 1., 1.],\n",
              "        [1., 1., 1., 1.]]])"
            ]
          },
          "metadata": {},
          "execution_count": 145
        }
      ]
    },
    {
      "cell_type": "markdown",
      "source": [
        "identity matrics in numpy"
      ],
      "metadata": {
        "id": "S8GoVyBZPqii"
      }
    },
    {
      "cell_type": "code",
      "source": [
        "n = np.eye(3)\n",
        "n"
      ],
      "metadata": {
        "colab": {
          "base_uri": "https://localhost:8080/"
        },
        "id": "L3gu8_m5PXst",
        "outputId": "ac701014-77c3-4aae-fd61-243d1e01c059"
      },
      "execution_count": null,
      "outputs": [
        {
          "output_type": "execute_result",
          "data": {
            "text/plain": [
              "array([[1., 0., 0.],\n",
              "       [0., 1., 0.],\n",
              "       [0., 0., 1.]])"
            ]
          },
          "metadata": {},
          "execution_count": 148
        }
      ]
    },
    {
      "cell_type": "markdown",
      "source": [
        "numpy.linspace( )is a function that is used for creating numeric sequences over a specified interval. "
      ],
      "metadata": {
        "id": "N7s1_TxOPtKm"
      }
    },
    {
      "cell_type": "code",
      "source": [
        "n = np.linspace(0,100,21)\n",
        "n"
      ],
      "metadata": {
        "colab": {
          "base_uri": "https://localhost:8080/"
        },
        "id": "6uRAmP1VPhoh",
        "outputId": "ceef4f12-3151-4b53-f5ca-e29b6e889a22"
      },
      "execution_count": null,
      "outputs": [
        {
          "output_type": "execute_result",
          "data": {
            "text/plain": [
              "array([  0.,   5.,  10.,  15.,  20.,  25.,  30.,  35.,  40.,  45.,  50.,\n",
              "        55.,  60.,  65.,  70.,  75.,  80.,  85.,  90.,  95., 100.])"
            ]
          },
          "metadata": {},
          "execution_count": 149
        }
      ]
    },
    {
      "cell_type": "markdown",
      "source": [
        "The Python numpy random randint function returns or generates random integer values from the start (low) to the end (high)."
      ],
      "metadata": {
        "id": "hStUPdtiQNj9"
      }
    },
    {
      "cell_type": "code",
      "source": [
        "n = np.random.randint(0,1000,500)\n",
        "n"
      ],
      "metadata": {
        "colab": {
          "base_uri": "https://localhost:8080/"
        },
        "id": "zk2zyfUqQBP9",
        "outputId": "8a22472e-e03b-465f-9be7-8054aef4db43"
      },
      "execution_count": null,
      "outputs": [
        {
          "output_type": "execute_result",
          "data": {
            "text/plain": [
              "array([829,  26, 913, 308, 347, 234, 145, 405, 877, 722, 742, 529, 476,\n",
              "         8, 719, 882, 181, 563, 807,   4, 152, 361, 692, 537, 164, 976,\n",
              "       877, 941, 517, 230, 453, 737, 938, 920, 718, 345, 728, 683, 109,\n",
              "       529, 342, 644,  55, 431, 277, 749, 773, 827, 605, 540, 848, 949,\n",
              "       156, 993,  80, 910, 926, 346, 651, 462, 825, 327, 480, 117, 697,\n",
              "       680,  25, 675, 241, 100, 141, 312, 783,  42, 749, 252, 224, 333,\n",
              "       663, 678, 512, 791,  69, 380, 737, 879, 796, 931, 871, 356, 879,\n",
              "       475, 260, 875, 805, 173, 179,  34,  33, 576, 777, 213, 140, 269,\n",
              "        98, 714, 200, 210, 238, 718, 829, 296,  64,  96, 439, 241, 240,\n",
              "       649, 679, 988, 345, 740, 113,  24, 423, 275, 630, 312, 700, 511,\n",
              "       518, 469, 828, 191, 849, 728, 498, 426, 500, 835, 385, 215, 467,\n",
              "       952, 315, 106, 574, 933, 957, 669, 206, 276, 610, 893, 465, 156,\n",
              "       265, 944, 553, 406, 839, 199, 129, 107, 817, 204, 888, 527, 186,\n",
              "       106, 637, 939, 845, 166, 893, 138, 378, 913,  97, 993, 414, 781,\n",
              "       503, 122, 386, 550, 653, 583, 474,  68, 692, 939, 929, 449, 287,\n",
              "       169, 400, 963, 229, 203,   7, 412,  67, 953, 847, 952,  92, 142,\n",
              "       384, 748, 445, 640,  21,   5, 561, 732, 360, 581, 235, 157, 337,\n",
              "       577, 278, 923, 997, 941, 355, 599, 173, 400, 819, 758,  14, 649,\n",
              "       676, 570, 840, 335, 601, 580, 851, 359, 644, 990, 174, 906, 418,\n",
              "       164, 561, 742, 450, 943, 240, 290,  53,   5, 751, 159, 122, 771,\n",
              "       501, 170, 295, 820, 765, 447, 763,  19, 119, 869, 902, 229, 295,\n",
              "       109, 555, 212, 779, 323, 791, 297, 958,  96, 423, 826, 677, 395,\n",
              "       335, 832,  49,  57, 372,  65, 884, 723,  44, 653, 863, 793, 857,\n",
              "       217, 360, 715,  66, 680,  67, 434, 883, 887, 987,  61, 870, 271,\n",
              "       855, 324, 447, 362, 978, 132, 800, 567, 988, 450, 859, 594,  66,\n",
              "       751, 244, 243, 622, 337,  82, 265,  16, 291, 312, 659, 314, 609,\n",
              "       808,  71, 728, 652, 842, 747, 811, 560, 218,  37, 919, 488, 793,\n",
              "        36, 910, 509,  53, 402, 462, 128, 771, 196, 873, 195, 152, 666,\n",
              "       211, 176, 451, 691, 524, 744, 105, 437, 966, 871, 978, 674, 817,\n",
              "       923, 326, 846, 675,  66, 127, 247, 992, 295, 836, 180, 583, 795,\n",
              "       997,  14,  12,  45, 204, 256, 309, 343, 743, 910, 434, 291, 682,\n",
              "       210, 655, 635, 321,  74, 517,  24, 173,   5, 226, 156, 252, 194,\n",
              "       409, 414, 703, 769, 953, 431, 392, 595, 226, 240, 642, 573, 806,\n",
              "       527, 434, 927, 131, 552, 636,  58, 458, 487,  60, 441, 212, 461,\n",
              "       186, 497, 663, 163, 587, 506, 976, 601, 977, 430, 935, 853, 333,\n",
              "       492, 689,  87, 532,   9, 330, 157,  27,  72, 688, 213, 340, 544,\n",
              "        89, 206, 886, 739, 800, 620, 529, 598, 323, 150, 125, 341, 830,\n",
              "       337, 476, 850, 290, 539, 797, 698, 867, 832, 593, 520, 992, 186,\n",
              "       650, 872, 113, 270, 282, 289])"
            ]
          },
          "metadata": {},
          "execution_count": 150
        }
      ]
    },
    {
      "cell_type": "markdown",
      "source": [
        "Reshaping arrays¶"
      ],
      "metadata": {
        "id": "LvD0d2rRRSZz"
      }
    },
    {
      "cell_type": "code",
      "source": [
        "a = np.arange(100)\n",
        "b = a.reshape(4,25)\n",
        "print(b)"
      ],
      "metadata": {
        "colab": {
          "base_uri": "https://localhost:8080/"
        },
        "id": "NZSJbd6oRRIP",
        "outputId": "060c1204-9d2f-4731-b672-07c03c694de6"
      },
      "execution_count": null,
      "outputs": [
        {
          "output_type": "stream",
          "name": "stdout",
          "text": [
            "[[ 0  1  2  3  4  5  6  7  8  9 10 11 12 13 14 15 16 17 18 19 20 21 22 23\n",
            "  24]\n",
            " [25 26 27 28 29 30 31 32 33 34 35 36 37 38 39 40 41 42 43 44 45 46 47 48\n",
            "  49]\n",
            " [50 51 52 53 54 55 56 57 58 59 60 61 62 63 64 65 66 67 68 69 70 71 72 73\n",
            "  74]\n",
            " [75 76 77 78 79 80 81 82 83 84 85 86 87 88 89 90 91 92 93 94 95 96 97 98\n",
            "  99]]\n"
          ]
        }
      ]
    },
    {
      "cell_type": "markdown",
      "source": [
        "Create a 5 row by 3 column array that contains only the value 7"
      ],
      "metadata": {
        "id": "5eljXwd4RsWY"
      }
    },
    {
      "cell_type": "code",
      "source": [
        "np.full((5,3),7)"
      ],
      "metadata": {
        "colab": {
          "base_uri": "https://localhost:8080/"
        },
        "id": "Bc7N4ge5RWwl",
        "outputId": "420d667f-063c-4a62-dade-d2ef82b50bbf"
      },
      "execution_count": null,
      "outputs": [
        {
          "output_type": "execute_result",
          "data": {
            "text/plain": [
              "array([[7, 7, 7],\n",
              "       [7, 7, 7],\n",
              "       [7, 7, 7],\n",
              "       [7, 7, 7],\n",
              "       [7, 7, 7]])"
            ]
          },
          "metadata": {},
          "execution_count": 152
        }
      ]
    },
    {
      "cell_type": "markdown",
      "source": [
        "Array slicing and indexing in numpy"
      ],
      "metadata": {
        "id": "zyMxwHPvxAaH"
      }
    },
    {
      "cell_type": "markdown",
      "source": [
        "1D slicing"
      ],
      "metadata": {
        "id": "MdGXnG7Wxn73"
      }
    },
    {
      "cell_type": "code",
      "source": [
        "array_1d = np.array([2,5,6,7,6,4,3])\n",
        "array_2d = np.array([[2,5,6,7,60,47,3],[11,50,6,9,62,42,30],[16,53,86,69,2,2,50]]"
      ],
      "metadata": {
        "id": "AGRgPXogxK_L"
      },
      "execution_count": null,
      "outputs": []
    },
    {
      "cell_type": "code",
      "source": [
        "array_1d\n",
        "\n",
        "\n",
        "array([2, 5, 6, 7, 6, 4, 3])"
      ],
      "metadata": {
        "id": "hox6VwvTxK9i"
      },
      "execution_count": null,
      "outputs": []
    },
    {
      "cell_type": "code",
      "source": [
        "array_2d\n",
        "\n",
        "\n",
        "array([[ 2,  5,  6,  7, 60, 47,  3],\n",
        "       [11, 50,  6,  9, 62, 42, 30],\n",
        "       [16, 53, 86, 69,  2,  2, 50]])"
      ],
      "metadata": {
        "id": "U6IdkklbxK75"
      },
      "execution_count": null,
      "outputs": []
    },
    {
      "cell_type": "markdown",
      "source": [
        "2D slicing"
      ],
      "metadata": {
        "id": "huU2Z5HixqOd"
      }
    },
    {
      "cell_type": "code",
      "source": [
        "array_2d\n",
        "\n",
        "array([[ 2,  5,  6,  7, 60, 47,  3],\n",
        "       [11, 50,  6,  9, 62, 42, 30],\n",
        "       [16, 53, 86, 69,  2,  2, 50]])\n"
      ],
      "metadata": {
        "id": "xMjtwdHRxK6Z"
      },
      "execution_count": null,
      "outputs": []
    },
    {
      "cell_type": "code",
      "source": [
        "array_2d[1:,2:]\n",
        "\n",
        "\n",
        "array([[ 6,  9, 62, 42, 30],\n",
        "       [86, 69,  2,  2, 50]])"
      ],
      "metadata": {
        "id": "46AFz_HVxK4r"
      },
      "execution_count": null,
      "outputs": []
    },
    {
      "cell_type": "markdown",
      "source": [
        "Boolean Array Indexing"
      ],
      "metadata": {
        "id": "VQawbADJyJ-_"
      }
    },
    {
      "cell_type": "code",
      "source": [
        "array_1d\n",
        "\n",
        "array([2, 5, 6, 7, 6, 4, 3])"
      ],
      "metadata": {
        "id": "VABE6Y3kxKuD"
      },
      "execution_count": null,
      "outputs": []
    },
    {
      "cell_type": "code",
      "source": [
        "array_1d>3\n",
        "\n",
        "array([False,  True,  True,  True,  True,  True, False])"
      ],
      "metadata": {
        "id": "v6oL--TUyTSr"
      },
      "execution_count": null,
      "outputs": []
    },
    {
      "cell_type": "code",
      "source": [
        "array_2d\n",
        "\n",
        "array([[ 2,  5,  6,  7, 60, 47,  3],\n",
        "       [11, 50,  6,  9, 62, 42, 30],\n",
        "       [16, 53, 86, 69,  2,  2, 50]])"
      ],
      "metadata": {
        "id": "r-XNuH5kyXtb"
      },
      "execution_count": null,
      "outputs": []
    },
    {
      "cell_type": "code",
      "source": [
        "array_2d>10\n",
        "\n",
        "array([[False, False, False, False,  True,  True, False],\n",
        "       [ True,  True, False, False,  True,  True,  True],\n",
        "       [ True,  True,  True,  True, False, False,  True]])"
      ],
      "metadata": {
        "id": "lPgXQQlOyydI"
      },
      "execution_count": null,
      "outputs": []
    },
    {
      "cell_type": "code",
      "source": [],
      "metadata": {
        "id": "cTsAKwDqy3Gk"
      },
      "execution_count": null,
      "outputs": []
    },
    {
      "cell_type": "markdown",
      "source": [
        "PANDAS"
      ],
      "metadata": {
        "id": "1mChhFOzR9w_"
      }
    },
    {
      "cell_type": "markdown",
      "source": [
        "pandas used to make dataframe, dataframes are more structurles forms\n"
      ],
      "metadata": {
        "id": "dfKX_pCASSQ9"
      }
    },
    {
      "cell_type": "code",
      "source": [
        "import pandas as pd\n",
        "row_labels = [0,1,2,3,4]\n",
        "column_labels = ['A','B','C']\n",
        "data = [[1,2,5],(4,2,4),{6,7,9},[3,2,4],[3,3,2]]"
      ],
      "metadata": {
        "id": "K5XxtaZ0RwdZ"
      },
      "execution_count": null,
      "outputs": []
    },
    {
      "cell_type": "code",
      "source": [
        "df = pd.DataFrame(index=row_labels, data=data, columns=column_labels)"
      ],
      "metadata": {
        "id": "-elgcVivSXky"
      },
      "execution_count": null,
      "outputs": []
    },
    {
      "cell_type": "code",
      "source": [
        "type(df)"
      ],
      "metadata": {
        "colab": {
          "base_uri": "https://localhost:8080/"
        },
        "id": "KVnHHwfJSk4A",
        "outputId": "1c68e169-0faf-47bf-ad72-76c70fce83f9"
      },
      "execution_count": null,
      "outputs": [
        {
          "output_type": "execute_result",
          "data": {
            "text/plain": [
              "pandas.core.frame.DataFrame"
            ]
          },
          "metadata": {},
          "execution_count": 157
        }
      ]
    },
    {
      "cell_type": "code",
      "source": [
        "df"
      ],
      "metadata": {
        "colab": {
          "base_uri": "https://localhost:8080/",
          "height": 206
        },
        "id": "gm5AFq1vSnJN",
        "outputId": "901f2d73-350c-473c-f750-9e860b2507a2"
      },
      "execution_count": null,
      "outputs": [
        {
          "output_type": "execute_result",
          "data": {
            "text/plain": [
              "   A  B  C\n",
              "0  1  2  5\n",
              "1  4  2  4\n",
              "2  9  6  7\n",
              "3  3  2  4\n",
              "4  3  3  2"
            ],
            "text/html": [
              "\n",
              "  <div id=\"df-567a6380-8777-4212-9e2a-12354dd9cccd\">\n",
              "    <div class=\"colab-df-container\">\n",
              "      <div>\n",
              "<style scoped>\n",
              "    .dataframe tbody tr th:only-of-type {\n",
              "        vertical-align: middle;\n",
              "    }\n",
              "\n",
              "    .dataframe tbody tr th {\n",
              "        vertical-align: top;\n",
              "    }\n",
              "\n",
              "    .dataframe thead th {\n",
              "        text-align: right;\n",
              "    }\n",
              "</style>\n",
              "<table border=\"1\" class=\"dataframe\">\n",
              "  <thead>\n",
              "    <tr style=\"text-align: right;\">\n",
              "      <th></th>\n",
              "      <th>A</th>\n",
              "      <th>B</th>\n",
              "      <th>C</th>\n",
              "    </tr>\n",
              "  </thead>\n",
              "  <tbody>\n",
              "    <tr>\n",
              "      <th>0</th>\n",
              "      <td>1</td>\n",
              "      <td>2</td>\n",
              "      <td>5</td>\n",
              "    </tr>\n",
              "    <tr>\n",
              "      <th>1</th>\n",
              "      <td>4</td>\n",
              "      <td>2</td>\n",
              "      <td>4</td>\n",
              "    </tr>\n",
              "    <tr>\n",
              "      <th>2</th>\n",
              "      <td>9</td>\n",
              "      <td>6</td>\n",
              "      <td>7</td>\n",
              "    </tr>\n",
              "    <tr>\n",
              "      <th>3</th>\n",
              "      <td>3</td>\n",
              "      <td>2</td>\n",
              "      <td>4</td>\n",
              "    </tr>\n",
              "    <tr>\n",
              "      <th>4</th>\n",
              "      <td>3</td>\n",
              "      <td>3</td>\n",
              "      <td>2</td>\n",
              "    </tr>\n",
              "  </tbody>\n",
              "</table>\n",
              "</div>\n",
              "      <button class=\"colab-df-convert\" onclick=\"convertToInteractive('df-567a6380-8777-4212-9e2a-12354dd9cccd')\"\n",
              "              title=\"Convert this dataframe to an interactive table.\"\n",
              "              style=\"display:none;\">\n",
              "        \n",
              "  <svg xmlns=\"http://www.w3.org/2000/svg\" height=\"24px\"viewBox=\"0 0 24 24\"\n",
              "       width=\"24px\">\n",
              "    <path d=\"M0 0h24v24H0V0z\" fill=\"none\"/>\n",
              "    <path d=\"M18.56 5.44l.94 2.06.94-2.06 2.06-.94-2.06-.94-.94-2.06-.94 2.06-2.06.94zm-11 1L8.5 8.5l.94-2.06 2.06-.94-2.06-.94L8.5 2.5l-.94 2.06-2.06.94zm10 10l.94 2.06.94-2.06 2.06-.94-2.06-.94-.94-2.06-.94 2.06-2.06.94z\"/><path d=\"M17.41 7.96l-1.37-1.37c-.4-.4-.92-.59-1.43-.59-.52 0-1.04.2-1.43.59L10.3 9.45l-7.72 7.72c-.78.78-.78 2.05 0 2.83L4 21.41c.39.39.9.59 1.41.59.51 0 1.02-.2 1.41-.59l7.78-7.78 2.81-2.81c.8-.78.8-2.07 0-2.86zM5.41 20L4 18.59l7.72-7.72 1.47 1.35L5.41 20z\"/>\n",
              "  </svg>\n",
              "      </button>\n",
              "      \n",
              "  <style>\n",
              "    .colab-df-container {\n",
              "      display:flex;\n",
              "      flex-wrap:wrap;\n",
              "      gap: 12px;\n",
              "    }\n",
              "\n",
              "    .colab-df-convert {\n",
              "      background-color: #E8F0FE;\n",
              "      border: none;\n",
              "      border-radius: 50%;\n",
              "      cursor: pointer;\n",
              "      display: none;\n",
              "      fill: #1967D2;\n",
              "      height: 32px;\n",
              "      padding: 0 0 0 0;\n",
              "      width: 32px;\n",
              "    }\n",
              "\n",
              "    .colab-df-convert:hover {\n",
              "      background-color: #E2EBFA;\n",
              "      box-shadow: 0px 1px 2px rgba(60, 64, 67, 0.3), 0px 1px 3px 1px rgba(60, 64, 67, 0.15);\n",
              "      fill: #174EA6;\n",
              "    }\n",
              "\n",
              "    [theme=dark] .colab-df-convert {\n",
              "      background-color: #3B4455;\n",
              "      fill: #D2E3FC;\n",
              "    }\n",
              "\n",
              "    [theme=dark] .colab-df-convert:hover {\n",
              "      background-color: #434B5C;\n",
              "      box-shadow: 0px 1px 3px 1px rgba(0, 0, 0, 0.15);\n",
              "      filter: drop-shadow(0px 1px 2px rgba(0, 0, 0, 0.3));\n",
              "      fill: #FFFFFF;\n",
              "    }\n",
              "  </style>\n",
              "\n",
              "      <script>\n",
              "        const buttonEl =\n",
              "          document.querySelector('#df-567a6380-8777-4212-9e2a-12354dd9cccd button.colab-df-convert');\n",
              "        buttonEl.style.display =\n",
              "          google.colab.kernel.accessAllowed ? 'block' : 'none';\n",
              "\n",
              "        async function convertToInteractive(key) {\n",
              "          const element = document.querySelector('#df-567a6380-8777-4212-9e2a-12354dd9cccd');\n",
              "          const dataTable =\n",
              "            await google.colab.kernel.invokeFunction('convertToInteractive',\n",
              "                                                     [key], {});\n",
              "          if (!dataTable) return;\n",
              "\n",
              "          const docLinkHtml = 'Like what you see? Visit the ' +\n",
              "            '<a target=\"_blank\" href=https://colab.research.google.com/notebooks/data_table.ipynb>data table notebook</a>'\n",
              "            + ' to learn more about interactive tables.';\n",
              "          element.innerHTML = '';\n",
              "          dataTable['output_type'] = 'display_data';\n",
              "          await google.colab.output.renderOutput(dataTable, element);\n",
              "          const docLink = document.createElement('div');\n",
              "          docLink.innerHTML = docLinkHtml;\n",
              "          element.appendChild(docLink);\n",
              "        }\n",
              "      </script>\n",
              "    </div>\n",
              "  </div>\n",
              "  "
            ]
          },
          "metadata": {},
          "execution_count": 158
        }
      ]
    },
    {
      "cell_type": "markdown",
      "source": [
        "df = pd.read_csv(\" \") to read data "
      ],
      "metadata": {
        "id": "J29N8-WFS7QL"
      }
    },
    {
      "cell_type": "code",
      "source": [
        "countries_table = pd.read_csv(filepath_or_buffer='top_10_countries.csv')"
      ],
      "metadata": {
        "id": "s5b8UMRoTJlV"
      },
      "execution_count": null,
      "outputs": []
    },
    {
      "cell_type": "code",
      "source": [
        "coundries.head()\n",
        "\n",
        "  Rank\tCountry / Dependency\tRegion\t Population\t% of world\tDate\n",
        "0\t1\t        China \t          asia  1,412,600,000\t17.80%\t 31-Dec-21\n",
        "1\t2\t         India\t\t    Asia      1,386,946,912\t 17.50%\t   18-Jan-22\n",
        "2\t3\t        United States\tAmericas\t333,073,186  \t4.20%\t     18-Jan-22\n",
        "3\t4         Indonesia[b]\t Asia\t    271,350,000\t  3.42%\t     31-Dec-20\n",
        "4\t5\t       Pakistan\t\t     Asia     225,200,000\t  2.84%\t     01-Jul-21\n",
        "5\t6\t       Brazil\t\t       Americas 14,231,641\t  2.70%\t     18-Jan-22\n",
        "6\t7\t       Nigeria\t       \tAfrica 211,401,000\t  2.67%\t     01-Jul-21\n",
        "7\t8\t       Bangladesh\t\t    Asia   172,062,576\t  2.17%\t     18-Jan-22\n",
        "8\t9\t         Russia[b]\t  Europe    146,171,015\t  1.84%\t     01-Jan-21\n",
        "9\t10      \tMexico       Americas \t126,014,024\t  1.59%\t     02-Mar-20"
      ],
      "metadata": {
        "id": "eqM9YmD1TSa9"
      },
      "execution_count": null,
      "outputs": []
    },
    {
      "cell_type": "code",
      "source": [
        "type(countries_table)\n",
        "\n",
        "pandas.core.frame.DataFrame"
      ],
      "metadata": {
        "id": "GkS8lmnXTZQ1"
      },
      "execution_count": null,
      "outputs": []
    },
    {
      "cell_type": "code",
      "source": [
        "# if header=None then column names will be generated using the 1 axis index positions\n",
        "countries_table = pd.read_csv('top_10_countries_no_header.csv', header=None)"
      ],
      "metadata": {
        "id": "MYw-9oVfTgMh"
      },
      "execution_count": null,
      "outputs": []
    },
    {
      "cell_type": "code",
      "source": [
        "countries_table\n",
        "\n",
        "   0             1               2         3           4       5       \n",
        "  Rank\tCountry / Dependency\tRegion\t Population\t% of world\tDate\n",
        "0\t1\t        China \t          asia  1,412,600,000\t17.80%\t 31-Dec-21\n",
        "1\t2\t         India\t\t    Asia      1,386,946,912\t 17.50%\t   18-Jan-22\n",
        "2\t3\t        United States\tAmericas\t333,073,186  \t4.20%\t     18-Jan-22\n",
        "3\t4         Indonesia[b]\t Asia\t    271,350,000\t  3.42%\t     31-Dec-20\n",
        "4\t5\t       Pakistan\t\t     Asia     225,200,000\t  2.84%\t     01-Jul-21\n",
        "5\t6\t       Brazil\t\t       Americas 14,231,641\t  2.70%\t     18-Jan-22\n",
        "6\t7\t       Nigeria\t       \tAfrica 211,401,000\t  2.67%\t     01-Jul-21\n",
        "7\t8\t       Bangladesh\t\t    Asia   172,062,576\t  2.17%\t     18-Jan-22\n",
        "8\t9\t         Russia[b]\t  Europe    146,171,015\t  1.84%\t     01-Jan-21\n",
        "9\t10      \tMexico       Americas \t126,014,024\t  1.59%\t     02-Mar-20"
      ],
      "metadata": {
        "id": "Yia9gYOkTzyj"
      },
      "execution_count": null,
      "outputs": []
    },
    {
      "cell_type": "markdown",
      "source": [
        "selecting data from data set"
      ],
      "metadata": {
        "id": "uZIzNuJNULB3"
      }
    },
    {
      "cell_type": "code",
      "source": [
        "import pandas as pd"
      ],
      "metadata": {
        "id": "N-ffsDfHUDwU"
      },
      "execution_count": null,
      "outputs": []
    },
    {
      "cell_type": "code",
      "source": [
        "countries_data = pd.read_csv('top_10_countries.csv')"
      ],
      "metadata": {
        "id": "OtkVRhFaUXD0"
      },
      "execution_count": null,
      "outputs": []
    },
    {
      "cell_type": "markdown",
      "source": [
        "Selecing a single column"
      ],
      "metadata": {
        "id": "vgQet6lVUcJt"
      }
    },
    {
      "cell_type": "code",
      "source": [
        "countries_data\n",
        "\n",
        "  Rank\tCountry / Dependency\tRegion\t Population\t% of world\tDate\n",
        "0\t1\t        China \t          asia  1,412,600,000\t17.80%\t 31-Dec-21\n",
        "1\t2\t         India\t\t    Asia      1,386,946,912\t 17.50%\t   18-Jan-22\n",
        "2\t3\t        United States\tAmericas\t333,073,186  \t4.20%\t     18-Jan-22\n",
        "3\t4         Indonesia[b]\t Asia\t    271,350,000\t  3.42%\t     31-Dec-20\n",
        "4\t5\t       Pakistan\t\t     Asia     225,200,000\t  2.84%\t     01-Jul-21\n",
        "5\t6\t       Brazil\t\t       Americas 14,231,641\t  2.70%\t     18-Jan-22\n",
        "6\t7\t       Nigeria\t       \tAfrica 211,401,000\t  2.67%\t     01-Jul-21\n",
        "7\t8\t       Bangladesh\t\t    Asia   172,062,576\t  2.17%\t     18-Jan-22\n",
        "8\t9\t         Russia[b]\t  Europe    146,171,015\t  1.84%\t     01-Jan-21\n",
        "9\t10      \tMexico       Americas \t126,014,024\t  1.59%\t     02-Mar-20\n"
      ],
      "metadata": {
        "id": "eqU-JVWhUZbf"
      },
      "execution_count": null,
      "outputs": []
    },
    {
      "cell_type": "code",
      "source": [
        "# Selecing the 'Region' column\n",
        "countries_data['Region']\n",
        "\n",
        "0        Asia\n",
        "1        Asia\n",
        "2    Americas\n",
        "3        Asia\n",
        "4        Asia\n",
        "5    Americas\n",
        "6      Africa\n",
        "7        Asia\n",
        "8      Europe\n",
        "9    Americas\n",
        "Name: Region, dtype: object"
      ],
      "metadata": {
        "id": "961S4H22Ujrt"
      },
      "execution_count": null,
      "outputs": []
    },
    {
      "cell_type": "code",
      "source": [
        "# A single column is a Series object - a DataFrame is a collection of Series objects\n",
        "type(countries_data['Region'])\n",
        "\n",
        "\n",
        "pandas.core.series.Series\n",
        "\n"
      ],
      "metadata": {
        "id": "ulTtEsHSVpxI"
      },
      "execution_count": null,
      "outputs": []
    },
    {
      "cell_type": "markdown",
      "source": [
        "Selecting multiple columns"
      ],
      "metadata": {
        "id": "68HIUayyV_iQ"
      }
    },
    {
      "cell_type": "code",
      "source": [
        "countries_data\n",
        "\n",
        "countries_data\n",
        "  Rank\tCountry / Dependency\tRegion\t Population\t% of world\tDate\n",
        "0\t1\t        China \t          asia  1,412,600,000\t17.80%\t 31-Dec-21\n",
        "1\t2\t         India\t\t    Asia      1,386,946,912\t 17.50%\t   18-Jan-22\n",
        "2\t3\t        United States\tAmericas\t333,073,186  \t4.20%\t     18-Jan-22\n",
        "3\t4         Indonesia[b]\t Asia\t    271,350,000\t  3.42%\t     31-Dec-20\n",
        "4\t5\t       Pakistan\t\t     Asia     225,200,000\t  2.84%\t     01-Jul-21\n",
        "5\t6\t       Brazil\t\t       Americas 14,231,641\t  2.70%\t     18-Jan-22\n",
        "6\t7\t       Nigeria\t       \tAfrica 211,401,000\t  2.67%\t     01-Jul-21\n",
        "7\t8\t       Bangladesh\t\t    Asia   172,062,576\t  2.17%\t     18-Jan-22\n",
        "8\t9\t         Russia[b]\t  Europe    146,171,015\t  1.84%\t     01-Jan-21\n",
        "9\t10      \tMexico       Americas \t126,014,024\t  1.59%\t     02-Mar-20"
      ],
      "metadata": {
        "id": "e7QUxxL7V1uI"
      },
      "execution_count": null,
      "outputs": []
    },
    {
      "cell_type": "code",
      "source": [
        "# multiple columns must be passed into a list\n",
        "countries_data[['Region','Country / Dependency', 'Rank']]\n",
        "\n",
        "\tRegion\tCountry / Dependency\tRank\n",
        "0\tAsia\t          China\t         1\n",
        "1\tAsia\t          India\t         2\n",
        "2\tAmericas\t      United States\t3\n",
        "3\tAsia\t          Indonesia[b]\t4\n",
        "4\tAsia\t          Pakistan\t    5\n",
        "5\tAmericas\t      Brazil\t      6\n",
        "6\tAfrica\t        Nigeria\t      7\n",
        "7\tAsia\t          Bangladesh\t  8\n",
        "8\tEurope\t        Russia[b]\t    9\n",
        "9\tAmericas       \tMexico\t      10\n"
      ],
      "metadata": {
        "id": "EF1DAHiBWHXV"
      },
      "execution_count": null,
      "outputs": []
    },
    {
      "cell_type": "markdown",
      "source": [
        "Selecting rows and columns¶"
      ],
      "metadata": {
        "id": "AT7EO9V9XbZc"
      }
    },
    {
      "cell_type": "code",
      "source": [
        "countries_data\n",
        "  Rank\tCountry / Dependency\tRegion\t Population\t% of world\tDate\n",
        "0\t1\t        China \t          asia  1,412,600,000\t17.80%\t 31-Dec-21\n",
        "1\t2\t         India\t\t    Asia      1,386,946,912\t 17.50%\t   18-Jan-22\n",
        "2\t3\t        United States\tAmericas\t333,073,186  \t4.20%\t     18-Jan-22\n",
        "3\t4         Indonesia[b]\t Asia\t    271,350,000\t  3.42%\t     31-Dec-20\n",
        "4\t5\t       Pakistan\t\t     Asia     225,200,000\t  2.84%\t     01-Jul-21\n",
        "5\t6\t       Brazil\t\t       Americas 14,231,641\t  2.70%\t     18-Jan-22\n",
        "6\t7\t       Nigeria\t       \tAfrica 211,401,000\t  2.67%\t     01-Jul-21\n",
        "7\t8\t       Bangladesh\t\t    Asia   172,062,576\t  2.17%\t     18-Jan-22\n",
        "8\t9\t         Russia[b]\t  Europe    146,171,015\t  1.84%\t     01-Jan-21\n",
        "9\t10      \tMexico       Americas \t126,014,024\t  1.59%\t     02-Mar-20\n",
        "\n"
      ],
      "metadata": {
        "id": "Ss78KA7lWM2A"
      },
      "execution_count": null,
      "outputs": []
    },
    {
      "cell_type": "code",
      "source": [
        "# iloc requires index positions\n",
        "countries_data.iloc[3]\n",
        "\n",
        "Rank                              4\n",
        "Country / Dependency     Indonesia[b]\n",
        "Region                           Asia\n",
        "Population                271350000.0\n",
        "% of world                      3.42%\n",
        "Date                        31-Dec-20\n",
        "Name: 3, dtype: object\n"
      ],
      "metadata": {
        "id": "tGaWxXOPYZY0"
      },
      "execution_count": null,
      "outputs": []
    },
    {
      "cell_type": "code",
      "source": [
        "# Slicing the rows\n",
        "countries_data.iloc[3:]\n",
        "\n",
        " Rank\tCountry / Dependency\tRegion\t Population\t% of world\tDate\n",
        "3\t4         Indonesia[b]\t Asia\t    271,350,000\t  3.42%\t     31-Dec-20\n",
        "4\t5\t       Pakistan\t\t     Asia     225,200,000\t  2.84%\t     01-Jul-21\n",
        "5\t6\t       Brazil\t\t       Americas 14,231,641\t  2.70%\t     18-Jan-22\n",
        "6\t7\t       Nigeria\t       \tAfrica 211,401,000\t  2.67%\t     01-Jul-21\n",
        "7\t8\t       Bangladesh\t\t    Asia   172,062,576\t  2.17%\t     18-Jan-22\n",
        "8\t9\t         Russia[b]\t  Europe    146,171,015\t  1.84%\t     01-Jan-21\n",
        "9\t10      \tMexico       Americas \t126,014,024\t  1.59%\t     02-Mar-20\n"
      ],
      "metadata": {
        "id": "TrXmkpoVYb2x"
      },
      "execution_count": null,
      "outputs": []
    },
    {
      "cell_type": "code",
      "source": [
        "# Reversing the rows\n",
        "countries_data.iloc[::-1]\n",
        "\n",
        "  Rank\t Country / Dependency\tRegion\tPopulation\t% of world\tDate\n",
        "9\t10\t           Mexico\tAmericas\t1.260140e+08\t1.59%\t02-Mar-20\n",
        "8\t9\t         Russia[b]\tEurope\t1.461710e+08\t1.84%\t01-Jan-21\n",
        "7\t8\t           Bangladesh\tAsia\t1.720626e+08\t2.17%\t18-Jan-22\n",
        "6\t7\t           Nigeria\tAfrica\t2.114010e+08\t2.67%\t01-Jul-21\n",
        "5\t6\t           Brazil\tAmericas\t2.142316e+08\t2.70%\t18-Jan-22\n",
        "4\t5           \tPakistan\tAsia\t2.252000e+08\t2.84%\t01-Jul-21\n",
        "3\t4\t            Indonesia[b]\tAsia\t2.713500e+08\t3.42%\t31-Dec-20\n",
        "2\t3\t           United States\tAmericas\t3.330732e+08\t4.20%\t18-Jan-22\n",
        "1\t2         \tIndia\tAsia\t1.386947e+09\t17.50%\t18-Jan-22\n",
        "0\t1\t          China\tAsia\t1.412600e+09\t17.80%\t31-Dec-21\n"
      ],
      "metadata": {
        "id": "pX-sp7zBYPSj"
      },
      "execution_count": null,
      "outputs": []
    },
    {
      "cell_type": "code",
      "source": [
        "countries_data\n",
        "  Rank\tCountry / Dependency\tRegion\t Population\t% of world\tDate\n",
        "0\t1\t        China \t          asia  1,412,600,000\t17.80%\t 31-Dec-21\n",
        "1\t2\t         India\t\t    Asia      1,386,946,912\t 17.50%\t   18-Jan-22\n",
        "2\t3\t        United States\tAmericas\t333,073,186  \t4.20%\t     18-Jan-22\n",
        "3\t4         Indonesia[b]\t Asia\t    271,350,000\t  3.42%\t     31-Dec-20\n",
        "4\t5\t       Pakistan\t\t     Asia     225,200,000\t  2.84%\t     01-Jul-21\n",
        "5\t6\t       Brazil\t\t       Americas 14,231,641\t  2.70%\t     18-Jan-22\n",
        "6\t7\t       Nigeria\t       \tAfrica 211,401,000\t  2.67%\t     01-Jul-21\n",
        "7\t8\t       Bangladesh\t\t    Asia   172,062,576\t  2.17%\t     18-Jan-22\n",
        "8\t9\t         Russia[b]\t  Europe    146,171,015\t  1.84%\t     01-Jan-21\n",
        "9\t10      \tMexico       Americas \t126,014,024\t  1.59%\t     02-Mar-20\n"
      ],
      "metadata": {
        "id": "2-Ax-Twibomz"
      },
      "execution_count": null,
      "outputs": []
    },
    {
      "cell_type": "code",
      "source": [
        "# slicing rows and columns with loc requires label names\n",
        "countries_data.loc[2:,['Country / Dependency','Population']]\n",
        "\n",
        "\tCountry / Dependency\tPopulation\n",
        "2\tUnited States\t333073186.0\n",
        "3\tIndonesia[b]\t271350000.0\n",
        "4\tPakistan\t225200000.0\n",
        "5\tBrazil\t214231641.0\n",
        "6\tNigeria\t211401000.0\n",
        "7\tBangladesh\t172062576.0\n",
        "8\tRussia[b]\t146171015.0\n",
        "9\tMexico\t126014024.0"
      ],
      "metadata": {
        "id": "5_qPGP_jbu0I"
      },
      "execution_count": null,
      "outputs": []
    },
    {
      "cell_type": "markdown",
      "source": [
        "Data manipulation"
      ],
      "metadata": {
        "id": "yuVFK25ueGcO"
      }
    },
    {
      "cell_type": "code",
      "source": [
        "import pandas as pd"
      ],
      "metadata": {
        "id": "oZlw0BJHcP8v"
      },
      "execution_count": null,
      "outputs": []
    },
    {
      "cell_type": "code",
      "source": [
        "countries_df = pd.read_csv('top_10_countries.csv')"
      ],
      "metadata": {
        "id": "nezqo2SaeN-j"
      },
      "execution_count": null,
      "outputs": []
    },
    {
      "cell_type": "code",
      "source": [
        "countries_df.shape\n",
        "\n",
        "(10, 6)"
      ],
      "metadata": {
        "id": "-5wdK3XYeUAk"
      },
      "execution_count": null,
      "outputs": []
    },
    {
      "cell_type": "code",
      "source": [
        "# using the rename method to rename one of the columns\n",
        "countries_df.rename(columns={'Country / Dependency': 'Country'}, inplace=True)"
      ],
      "metadata": {
        "id": "XDi9mXN0eT9e"
      },
      "execution_count": null,
      "outputs": []
    },
    {
      "cell_type": "code",
      "source": [
        "countries_df\n",
        "\n",
        " Rank\t     Country        Region\t Population\t% of world\tDate\n",
        "0\t1\t        China \t      asia   1,412,600,000\t17.80%\t 31-Dec-21\n",
        "1\t2\t         India\t\t    Asia      1,386,946,912\t 17.50%\t   18-Jan-22\n",
        "2\t3\t        United States\tAmericas\t333,073,186  \t4.20%\t     18-Jan-22\n",
        "3\t4         Indonesia[b]\t Asia\t    271,350,000\t  3.42%\t     31-Dec-20\n",
        "4\t5\t       Pakistan\t\t     Asia     225,200,000\t  2.84%\t     01-Jul-21\n",
        "5\t6\t       Brazil\t\t       Americas 14,231,641\t  2.70%\t     18-Jan-22\n",
        "6\t7\t       Nigeria\t       \tAfrica 211,401,000\t  2.67%\t     01-Jul-21\n",
        "7\t8\t       Bangladesh\t\t    Asia   172,062,576\t  2.17%\t     18-Jan-22\n",
        "8\t9\t         Russia[b]\t  Europe    146,171,015\t  1.84%\t     01-Jan-21\n",
        "9\t10      \tMexico       Americas \t126,014,024\t  1.59%\t     02-Mar-20\n",
        "\n",
        "\n"
      ],
      "metadata": {
        "id": "nlrIETwYeT7A"
      },
      "execution_count": null,
      "outputs": []
    },
    {
      "cell_type": "code",
      "source": [
        "# Using the drop method to drop the 'Date' columns\n",
        "countries_df.drop(columns='Date', inplace=True)\n",
        "\n",
        "countries_df\n",
        "\n",
        "\n",
        " Rank\t     Country        Region\t Population\t% of world\n",
        "0\t1\t        China \t      asia   1,412,600,000\t17.80%\t \n",
        "1\t2\t         India\t\t    Asia      1,386,946,912\t 17.50%\t   \n",
        "2\t3\t        United States\tAmericas\t333,073,186  \t4.20%\t     \n",
        "3\t4         Indonesia[b]\t Asia\t    271,350,000\t  3.42%\t     \n",
        "4\t5\t       Pakistan\t\t     Asia     225,200,000\t  2.84%\t    \n",
        "5\t6\t       Brazil\t\t       Americas 14,231,641\t  2.70%\t     \n",
        "6\t7\t       Nigeria\t       \tAfrica 211,401,000\t  2.67%\t     \n",
        "7\t8\t       Bangladesh\t\t    Asia   172,062,576\t  2.17%\t    \n",
        "8\t9\t         Russia[b]\t  Europe    146,171,015\t  1.84%\t \n",
        "9\t10      \tMexico       Americas \t126,014,024\t  1.59%\t    \n",
        "\n"
      ],
      "metadata": {
        "id": "R_d1pE8NeT5C"
      },
      "execution_count": null,
      "outputs": []
    },
    {
      "cell_type": "markdown",
      "source": [
        "drop column"
      ],
      "metadata": {
        "id": "EWmBIQF9mjfg"
      }
    },
    {
      "cell_type": "code",
      "source": [
        "import pandas as pd\n",
        "countries_df = pd.read_csv('top_10_countries.csv')\n",
        "countries_df.drop(columns=['% of world','Date'],inplace=True)"
      ],
      "metadata": {
        "id": "fDGQkNZ9eT28"
      },
      "execution_count": null,
      "outputs": []
    },
    {
      "cell_type": "markdown",
      "source": [
        "rename column"
      ],
      "metadata": {
        "id": "GfC6M9jHm0mk"
      }
    },
    {
      "cell_type": "code",
      "source": [
        "countries_df.rename(columns={'Country / Dependency':'Country'}, inplace=True)"
      ],
      "metadata": {
        "id": "0EEtQsVJeT0t"
      },
      "execution_count": null,
      "outputs": []
    },
    {
      "cell_type": "markdown",
      "source": [
        "two ways to handle missing values\n"
      ],
      "metadata": {
        "id": "fYMhL-FQpuLf"
      }
    },
    {
      "cell_type": "markdown",
      "source": [
        "what is data preprocessing"
      ],
      "metadata": {
        "id": "UI2swV3Ap7OB"
      }
    },
    {
      "cell_type": "code",
      "source": [
        "# step 1 importing modules \n",
        "import numpy as np \n",
        "import pandas as pd\n",
        "import matplotlib.pyplot as plt\n",
        "%matplotlib inline\n",
        "import warnings \n",
        "warnings.filterwarnings('ignore')"
      ],
      "metadata": {
        "id": "fRhRCKEceTy1"
      },
      "execution_count": null,
      "outputs": []
    },
    {
      "cell_type": "code",
      "source": [
        "dataset = pd.read_csv('WorldCupMatches.csv')"
      ],
      "metadata": {
        "id": "7FfcK5AyeTwc"
      },
      "execution_count": null,
      "outputs": []
    },
    {
      "cell_type": "code",
      "source": [
        "dataset.head()\n",
        "\n",
        "Year\tDatetime\tStage\tStadium\tCity\tHome Team Name\tHome Team Goals\tAway Team Goals\tAway Team Name\tWin conditions\tAttendance\tHalf-time Home Goals\tHalf-time Away Goals\tReferee\tAssistant 1\tAssistant 2\tRoundID\tMatchID\tHome Team Initials\tAway Team Initials\n",
        "0\t1930.0\t13 Jul 1930 - 15:00\tGroup 1\tPocitos\tMontevideo\tFrance\t4.0\t1.0\tMexico\t\t4444.0\t3.0\t0.0\tLOMBARDI Domingo (URU)\tCRISTOPHE Henry (BEL)\tREGO Gilberto (BRA)\t201.0\t1096.0\tFRA\tMEX\n",
        "1\t1930.0\t13 Jul 1930 - 15:00\tGroup 4\tParque Central\tMontevideo\tUSA\t3.0\t0.0\tBelgium\t\t18346.0\t2.0\t0.0\tMACIAS Jose (ARG)\tMATEUCCI Francisco (URU)\tWARNKEN Alberto (CHI)\t201.0\t1090.0\tUSA\tBEL\n",
        "2\t1930.0\t14 Jul 1930 - 12:45\tGroup 2\tParque Central\tMontevideo\tYugoslavia\t2.0\t1.0\tBrazil\t\t24059.0\t2.0\t0.0\tTEJADA Anibal (URU)\tVALLARINO Ricardo (URU)\tBALWAY Thomas (FRA)\t201.0\t1093.0\tYUG\tBRA\n",
        "3\t1930.0\t14 Jul 1930 - 14:50\tGroup 3\tPocitos\tMontevideo\tRomania\t3.0\t1.0\tPeru\t\t2549.0\t1.0\t0.0\tWARNKEN Alberto (CHI)\tLANGENUS Jean (BEL)\tMATEUCCI Francisco (URU)\t201.0\t1098.0\tROU\tPER\n",
        "4\t1930.0\t15 Jul 1930 - 16:00\tGroup 1\tParque Central\tMontevideo\tArgentina\t1.0\t0.0\tFrance\t\t23409.0\t0.0\t0.0\tREGO Gilberto (BRA)\tSAUCEDO Ulises (BOL)\tRADULESCU Constantin (ROU)\t201.0\t1085.0\tARG\tFRA\n",
        "\n"
      ],
      "metadata": {
        "id": "FQbYRGSoeTuD"
      },
      "execution_count": null,
      "outputs": []
    },
    {
      "cell_type": "code",
      "source": [
        "dataset.shape\n",
        "(4572, 20)"
      ],
      "metadata": {
        "id": "cLTD4m4heTr3"
      },
      "execution_count": null,
      "outputs": []
    },
    {
      "cell_type": "code",
      "source": [
        "dataset.tail()\n",
        "\n",
        "      Year\tDatetime\tStage\tStadium\tCity\tHome Team Name\tHome Team Goals\tAway Team Goals\tAway Team Name\tWin conditions\tAttendance\tHalf-time Home Goals\tHalf-time Away Goals\tReferee\tAssistant 1\tAssistant 2\tRoundID\tMatchID\tHome Team Initials\tAway Team Initials\n",
        "4567\tNaN\tNaN\tNaN\tNaN\tNaN\tNaN\tNaN\tNaN\tNaN\tNaN\tNaN\tNaN\tNaN\tNaN\tNaN\tNaN\tNaN\tNaN\tNaN\tNaN\n",
        "4568\tNaN\tNaN\tNaN\tNaN\tNaN\tNaN\tNaN\tNaN\tNaN\tNaN\tNaN\tNaN\tNaN\tNaN\tNaN\tNaN\tNaN\tNaN\tNaN\tNaN\n",
        "4569\tNaN\tNaN\tNaN\tNaN\tNaN\tNaN\tNaN\tNaN\tNaN\tNaN\tNaN\tNaN\tNaN\tNaN\tNaN\tNaN\tNaN\tNaN\tNaN\tNaN\n",
        "4570\tNaN\tNaN\tNaN\tNaN\tNaN\tNaN\tNaN\tNaN\tNaN\tNaN\tNaN\tNaN\tNaN\tNaN\tNaN\tNaN\tNaN\tNaN\tNaN\tNaN\n",
        "4571\tNaN\tNaN\tNaN\tNaN\tNaN\tNaN\tNaN\tNaN\tNaN\tNaN\tNaN\tNaN\tNaN\tNaN\tNaN\tNaN\tNaN\tNaN\tNaN\tNaN"
      ],
      "metadata": {
        "id": "-n1at68xeTpP"
      },
      "execution_count": null,
      "outputs": []
    },
    {
      "cell_type": "code",
      "source": [
        "dataset.info()\n",
        "\n",
        "<class 'pandas.core.frame.DataFrame'>\n",
        "RangeIndex: 4572 entries, 0 to 4571\n",
        "Data columns (total 20 columns):\n",
        " #   Column                Non-Null Count  Dtype  \n",
        "---  ------                --------------  -----  \n",
        " 0   Year                  852 non-null    float64\n",
        " 1   Datetime              852 non-null    object \n",
        " 2   Stage                 852 non-null    object \n",
        " 3   Stadium               852 non-null    object \n",
        " 4   City                  852 non-null    object \n",
        " 5   Home Team Name        852 non-null    object \n",
        " 6   Home Team Goals       852 non-null    float64\n",
        " 7   Away Team Goals       852 non-null    float64\n",
        " 8   Away Team Name        852 non-null    object \n",
        " 9   Win conditions        852 non-null    object \n",
        " 10  Attendance            850 non-null    float64\n",
        " 11  Half-time Home Goals  852 non-null    float64\n",
        " 12  Half-time Away Goals  852 non-null    float64\n",
        " 13  Referee               852 non-null    object \n",
        " 14  Assistant 1           852 non-null    object \n",
        " 15  Assistant 2           852 non-null    object \n",
        " 16  RoundID               852 non-null    float64\n",
        " 17  MatchID               852 non-null    float64\n",
        " 18  Home Team Initials    852 non-null    object \n",
        " 19  Away Team Initials    852 non-null    object \n",
        "dtypes: float64(8), object(12)\n",
        "memory usage: 714.5+ KB"
      ],
      "metadata": {
        "id": "-RG6GEiteTl9"
      },
      "execution_count": null,
      "outputs": []
    },
    {
      "cell_type": "code",
      "source": [
        "dataset.describe()\n",
        "\n",
        "        Year\tHome Team Goals\tAway Team Goals\tAttendance\tHalf-time Home Goals\tHalf-time Away Goals\tRoundID\tMatchID\n",
        "count\t852.000000\t852.000000\t852.000000\t850.000000\t852.000000\t852.000000\t8.520000e+02\t8.520000e+02\n",
        "mean\t1985.089202\t1.811033\t1.022300\t45164.800000\t0.708920\t0.428404\t1.066177e+07\t6.134687e+07\n",
        "std\t22.448825\t1.610255\t1.087573\t23485.249247\t0.937414\t0.691252\t2.729613e+07\t1.110572e+08\n",
        "min\t1930.000000\t0.000000\t0.000000\t2000.000000\t0.000000\t0.000000\t2.010000e+02\t2.500000e+01\n",
        "25%\t1970.000000\t1.000000\t0.000000\t30000.000000\t0.000000\t0.000000\t2.620000e+02\t1.188750e+03\n",
        "50%\t1990.000000\t2.000000\t1.000000\t41579.500000\t0.000000\t0.000000\t3.370000e+02\t2.191000e+03\n",
        "75%\t2002.000000\t3.000000\t2.000000\t61374.500000\t1.000000\t1.000000\t2.497220e+05\t4.395006e+07\n",
        "max\t2014.000000\t10.000000\t7.000000\t173850.000000\t6.000000\t5.000000\t9.741060e+07\t3.001865e+08"
      ],
      "metadata": {
        "id": "maoBI_7UeTkH"
      },
      "execution_count": null,
      "outputs": []
    },
    {
      "cell_type": "markdown",
      "source": [
        "Check out the Missing Values"
      ],
      "metadata": {
        "id": "23Osr1k7q9_C"
      }
    },
    {
      "cell_type": "code",
      "source": [
        "dataset.isnull().sum()\n",
        "\n",
        "Year                    3720\n",
        "Datetime                3720\n",
        "Stage                   3720\n",
        "Stadium                 3720\n",
        "City                    3720\n",
        "Home Team Name          3720\n",
        "Home Team Goals         3720\n",
        "Away Team Goals         3720\n",
        "Away Team Name          3720\n",
        "Win conditions          3720\n",
        "Attendance              3722\n",
        "Half-time Home Goals    3720\n",
        "Half-time Away Goals    3720\n",
        "Referee                 3720\n",
        "Assistant 1             3720\n",
        "Assistant 2             3720\n",
        "RoundID                 3720\n",
        "MatchID                 3720\n",
        "Home Team Initials      3720\n",
        "Away Team Initials      3720\n",
        "dtype: int64\n",
        "dataset.shape\n"
      ],
      "metadata": {
        "id": "ORIXx-gCeTfL"
      },
      "execution_count": null,
      "outputs": []
    },
    {
      "cell_type": "code",
      "source": [
        "dataset.shape\n",
        "(4572, 20)"
      ],
      "metadata": {
        "id": "d2MOYUW5rFUl"
      },
      "execution_count": null,
      "outputs": []
    },
    {
      "cell_type": "code",
      "source": [
        "4572/3720 *100\n",
        "\n",
        "81.36482939632546"
      ],
      "metadata": {
        "id": "kxRwTSTErKDR"
      },
      "execution_count": null,
      "outputs": []
    },
    {
      "cell_type": "markdown",
      "source": [
        "Method 1"
      ],
      "metadata": {
        "id": "0rmhBiJnrwU_"
      }
    },
    {
      "cell_type": "code",
      "source": [
        "data =dataset.dropna(inplace=False)"
      ],
      "metadata": {
        "id": "WsT0WNn0rcjJ"
      },
      "execution_count": null,
      "outputs": []
    },
    {
      "cell_type": "code",
      "source": [
        "dataset.shape\n",
        "(4572, 20)"
      ],
      "metadata": {
        "id": "Ne9WWwvyr2b2"
      },
      "execution_count": null,
      "outputs": []
    },
    {
      "cell_type": "code",
      "source": [
        "data.shape\n",
        "(850, 20)"
      ],
      "metadata": {
        "id": "S1Qbwe9qr7ZP"
      },
      "execution_count": null,
      "outputs": []
    },
    {
      "cell_type": "code",
      "source": [
        "data.isnull().sum()\n",
        "\n",
        "Year                    0\n",
        "Datetime                0\n",
        "Stage                   0\n",
        "Stadium                 0\n",
        "City                    0\n",
        "Home Team Name          0\n",
        "Home Team Goals         0\n",
        "Away Team Goals         0\n",
        "Away Team Name          0\n",
        "Win conditions          0\n",
        "Attendance              0\n",
        "Half-time Home Goals    0\n",
        "Half-time Away Goals    0\n",
        "Referee                 0\n",
        "Assistant 1             0\n",
        "Assistant 2             0\n",
        "RoundID                 0\n",
        "MatchID                 0\n",
        "Home Team Initials      0\n",
        "Away Team Initials      0\n",
        "dtype: int64\n",
        "data.shape\n",
        "(850, 20)"
      ],
      "metadata": {
        "id": "-7w7KBkVr_kB"
      },
      "execution_count": null,
      "outputs": []
    },
    {
      "cell_type": "markdown",
      "source": [
        "method2 fillna with mean, median, mode\n"
      ],
      "metadata": {
        "id": "aUmtMAdWsJX6"
      }
    },
    {
      "cell_type": "code",
      "source": [
        "dataset['Year'].fillna(dataset['Year'].mean(),inplace=True)\n",
        "dataset['Year'].fillna(dataset['Year'].median(),inplace=True)\n",
        "dataset['Year'].fillna(dataset['Year'].mode(),inplace=True)\n",
        "mean, median, mode."
      ],
      "metadata": {
        "id": "l6pHXKZosD9a"
      },
      "execution_count": null,
      "outputs": []
    },
    {
      "cell_type": "markdown",
      "source": [
        "method 3 dropping values"
      ],
      "metadata": {
        "id": "PNIBj6FQuLaV"
      }
    },
    {
      "cell_type": "code",
      "source": [
        "dataset.isnull().sum()\n",
        "\n",
        "Year                    3720\n",
        "Datetime                3720\n",
        "Stage                   3720\n",
        "Stadium                 3720\n",
        "City                    3720\n",
        "Home Team Name          3720\n",
        "Home Team Goals         3720\n",
        "Away Team Goals         3720\n",
        "Away Team Name          3720\n",
        "Win conditions          3720\n",
        "Attendance              3722\n",
        "Half-time Home Goals    3720\n",
        "Half-time Away Goals    3720\n",
        "Referee                 3720\n",
        "Assistant 1             3720\n",
        "Assistant 2             3720\n",
        "RoundID                 3720\n",
        "MatchID                 3720\n",
        "Home Team Initials      3720\n",
        "Away Team Initials      3720\n",
        "dtype: int64\n",
        "dataset.shape"
      ],
      "metadata": {
        "id": "cppEt339tqOf"
      },
      "execution_count": null,
      "outputs": []
    },
    {
      "cell_type": "code",
      "source": [
        "# drop the missing values\n",
        "salary_dataset = salary_dataset.dropna(how='any')\n",
        "\n",
        "Year                    0\n",
        "Datetime                0\n",
        "Stage                   0\n",
        "Stadium                 0\n",
        "City                    0\n",
        "Home Team Name          0\n",
        "Home Team Goals         0\n",
        "Away Team Goals         0\n",
        "Away Team Name          0\n",
        "Win conditions          0\n",
        "Attendance              0\n",
        "Half-time Home Goals    0\n",
        "Half-time Away Goals    0\n",
        "Referee                 0\n",
        "Assistant 1             0\n",
        "Assistant 2             0\n",
        "RoundID                 0\n",
        "MatchID                 0\n",
        "Home Team Initials      0\n",
        "Away Team Initials      0\n",
        "dtype: int64\n",
        "data.shape\n",
        "(850, 20)"
      ],
      "metadata": {
        "id": "HM3d1N1Dujrs"
      },
      "execution_count": null,
      "outputs": []
    },
    {
      "cell_type": "code",
      "source": [],
      "metadata": {
        "id": "aYQhObizur4z"
      },
      "execution_count": null,
      "outputs": []
    }
  ]
}